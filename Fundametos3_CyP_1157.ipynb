{
  "nbformat": 4,
  "nbformat_minor": 0,
  "metadata": {
    "colab": {
      "name": "Fundametos3_CyP_1157.ipynb",
      "provenance": [],
      "collapsed_sections": [],
      "authorship_tag": "ABX9TyOb/ka+iIeyxL4YGBNc95/u",
      "include_colab_link": true
    },
    "kernelspec": {
      "name": "python3",
      "display_name": "Python 3"
    },
    "language_info": {
      "name": "python"
    }
  },
  "cells": [
    {
      "cell_type": "markdown",
      "metadata": {
        "id": "view-in-github",
        "colab_type": "text"
      },
      "source": [
        "<a href=\"https://colab.research.google.com/github/DiegoArroyo12/CYP/blob/master/Fundametos3_CyP_1157.ipynb\" target=\"_parent\"><img src=\"https://colab.research.google.com/assets/colab-badge.svg\" alt=\"Open In Colab\"/></a>"
      ]
    },
    {
      "cell_type": "markdown",
      "metadata": {
        "id": "qxg4uWeNFl-l"
      },
      "source": [
        "Repetición:\n",
        "\n",
        "Este tipo de estructura nos permite automatizar la ejecución repetitiva de código mientas ciertas condiciones s cumplan, tenemos 3 variantes de esta estructura en todos los lenguajes de programación:\n",
        "\n",
        "- Desde...hasta (estructura for)\n",
        "- Haz mientras (structura While)\n",
        "- Haz y luego validaz mientras( estructura Do-While)\n",
        "\n",
        "# FOR  CON Python\n",
        "\n",
        "```\n",
        "for j in range(10):\n",
        "    print(f\"Hola { j }\")\n",
        "```\n",
        "\n",
        "# FOR CON Leng C y/o Java\n",
        "\n",
        "```\n",
        "for( int j = 0 ; j < 10 ; j = j +1 ){\n",
        "    printf(\"Hola %i \\n\", j );\n",
        "}\n",
        "```\n",
        "\n",
        "En todos los lenguajes de programación existe un tipo especial de for, conocido como **for-each**\n",
        "\n",
        "#For-each en Python\n",
        "```\n",
        "for color in colores:\n",
        "    print(f\"Este es el color { color }\")\n",
        "```"
      ]
    },
    {
      "cell_type": "code",
      "metadata": {
        "colab": {
          "base_uri": "https://localhost:8080/"
        },
        "id": "-UdvsaTIFz18",
        "outputId": "41d2b0a4-74dd-41f5-948b-eed97911733a"
      },
      "source": [
        "# funcion range()\n",
        "# range(<INICIO>,<STOP>,<INCREMENTO>)\n",
        "X = range(0,10,2)\n",
        "print(X)\n",
        "\n",
        "for j in range(10): # range(10) --> 0,1,2,3,4,5,6,7,8,9\n",
        "    print(f\"Hola {j}\")\n",
        "\n",
        "print(\"-.-.-.-.-.-.-.\")\n",
        "for j in range(0,10,2): # range(10) --> 0,2,4,6,8\n",
        "    print(f\"Hola {j}\")\n",
        "\n",
        "frutas = [\"Uva\",\"Aguacate\",\"Pera\",\"Manzana\",\"Sandía\"]\n",
        "print(frutas[0])\n",
        "print(frutas[1])\n",
        "print(frutas[2])\n",
        "print(frutas[3])\n",
        "print(frutas[4])\n",
        "\n",
        "print(\"---Frutas---\")\n",
        "for index in range(5):\n",
        "    print(frutas[index])\n",
        "\n",
        "for i in range(5):\n",
        "    print(\"+++++\")"
      ],
      "execution_count": null,
      "outputs": [
        {
          "output_type": "stream",
          "name": "stdout",
          "text": [
            "range(0, 10, 2)\n",
            "Hola 0\n",
            "Hola 1\n",
            "Hola 2\n",
            "Hola 3\n",
            "Hola 4\n",
            "Hola 5\n",
            "Hola 6\n",
            "Hola 7\n",
            "Hola 8\n",
            "Hola 9\n",
            "-.-.-.-.-.-.-.\n",
            "Hola 0\n",
            "Hola 2\n",
            "Hola 4\n",
            "Hola 6\n",
            "Hola 8\n",
            "Uva\n",
            "Aguacate\n",
            "Pera\n",
            "Manzana\n",
            "Sandía\n",
            "---Frutas---\n",
            "Uva\n",
            "Aguacate\n",
            "Pera\n",
            "Manzana\n",
            "Sandía\n",
            "+++++\n",
            "+++++\n",
            "+++++\n",
            "+++++\n",
            "+++++\n"
          ]
        }
      ]
    },
    {
      "cell_type": "code",
      "metadata": {
        "colab": {
          "base_uri": "https://localhost:8080/"
        },
        "id": "G306uRsOMJw-",
        "outputId": "d6d13ff4-5aef-4c16-b025-c7642d920656"
      },
      "source": [
        "for x in range(1, 20, 1):\n",
        "    print(x)\n",
        "print(\"Fin del programa\")\n",
        "\n",
        "for x in range(19, 0, -1):\n",
        "    print(x)\n",
        "print(\"Fin del programa\")"
      ],
      "execution_count": null,
      "outputs": [
        {
          "output_type": "stream",
          "name": "stdout",
          "text": [
            "1\n",
            "2\n",
            "3\n",
            "4\n",
            "5\n",
            "6\n",
            "7\n",
            "8\n",
            "9\n",
            "10\n",
            "11\n",
            "12\n",
            "13\n",
            "14\n",
            "15\n",
            "16\n",
            "17\n",
            "18\n",
            "19\n",
            "Fin del programa\n",
            "19\n",
            "18\n",
            "17\n",
            "16\n",
            "15\n",
            "14\n",
            "13\n",
            "12\n",
            "11\n",
            "10\n",
            "9\n",
            "8\n",
            "7\n",
            "6\n",
            "5\n",
            "4\n",
            "3\n",
            "2\n",
            "1\n",
            "Fin del programa\n"
          ]
        }
      ]
    },
    {
      "cell_type": "code",
      "metadata": {
        "colab": {
          "base_uri": "https://localhost:8080/"
        },
        "id": "estjtjeLNzVc",
        "outputId": "ffebd2d7-1a03-4d7f-af33-93522f275d6a"
      },
      "source": [
        "# EJEMPLO 3.3\n",
        "\n",
        "CUECER = 0\n",
        "NUM = 0\n",
        "N = int(input(\"Introduce un valor númerico mayor que 1: \"))\n",
        "\n",
        "for I in range( 1, N + 1, 1):\n",
        "    N = int(input(\"Introduce un valor númerico: \"))\n",
        "    if N == 0: \n",
        "        CUECER += 1\n",
        "\n",
        "print(\"CUECER = \", CUECER)"
      ],
      "execution_count": null,
      "outputs": [
        {
          "output_type": "stream",
          "name": "stdout",
          "text": [
            "Introduce un valor númerico mayor que 1: 4\n",
            "Introduce un valor númerico: 3\n",
            "Introduce un valor númerico: 3\n",
            "Introduce un valor númerico: 3\n",
            "Introduce un valor númerico: 8\n",
            "CUECER =  0\n"
          ]
        }
      ]
    },
    {
      "cell_type": "markdown",
      "metadata": {
        "id": "_MEFrjkDQ2j0"
      },
      "source": [
        "7 X 1 = 7 \n",
        "\n",
        "7 X 2 = 14\n",
        "\n",
        "... \n",
        "\n",
        "7 X 10 = 70 "
      ]
    },
    {
      "cell_type": "code",
      "metadata": {
        "colab": {
          "base_uri": "https://localhost:8080/"
        },
        "id": "mhfYICtWRCj5",
        "outputId": "72f12737-2a05-408f-b2ad-4b8658dfe569"
      },
      "source": [
        "n = 7\n",
        "for i in range(1, 11):\n",
        "    x = n * i \n",
        "    print(f\"7 * {i} = {x}\")"
      ],
      "execution_count": null,
      "outputs": [
        {
          "output_type": "stream",
          "name": "stdout",
          "text": [
            "7 * 1 = 7\n",
            "7 * 2 = 14\n",
            "7 * 3 = 21\n",
            "7 * 4 = 28\n",
            "7 * 5 = 35\n",
            "7 * 6 = 42\n",
            "7 * 7 = 49\n",
            "7 * 8 = 56\n",
            "7 * 9 = 63\n",
            "7 * 10 = 70\n"
          ]
        }
      ]
    },
    {
      "cell_type": "markdown",
      "metadata": {
        "id": "eEMO9jJNR6SU"
      },
      "source": [
        "¿Dame un número entre 1 y 5?: n\n",
        "\n",
        "¿Dame un número entre n y 10?: 6\n"
      ]
    },
    {
      "cell_type": "code",
      "metadata": {
        "colab": {
          "base_uri": "https://localhost:8080/"
        },
        "id": "HVYzkbeBSNwZ",
        "outputId": "a94b92c7-3e68-4908-f5e0-59a5a9d9d8b0"
      },
      "source": [
        "N = int(input(\"Dame un número entre 1 y 5: \"))\n",
        "if N > 0 and N < 6: \n",
        "    M = int(input(f\"Dame un número entre {N} y 10: \"))\n",
        "    if M >= N and M < 11:  \n",
        "        for i in range(N,M + 1):\n",
        "            for j in range(1,11):\n",
        "                print(f\"{i} x {j} = \",i * j)\n",
        "            print(\"-----------\")\n",
        "else:\n",
        "    print(\"Valor fuera del rango 1-5\")"
      ],
      "execution_count": null,
      "outputs": [
        {
          "output_type": "stream",
          "name": "stdout",
          "text": [
            "Dame un número entre 1 y 5: 4\n",
            "Dame un número entre 4 y 10: 6\n",
            "4 x 1 =  4\n",
            "4 x 2 =  8\n",
            "4 x 3 =  12\n",
            "4 x 4 =  16\n",
            "4 x 5 =  20\n",
            "4 x 6 =  24\n",
            "4 x 7 =  28\n",
            "4 x 8 =  32\n",
            "4 x 9 =  36\n",
            "4 x 10 =  40\n",
            "-----------\n",
            "5 x 1 =  5\n",
            "5 x 2 =  10\n",
            "5 x 3 =  15\n",
            "5 x 4 =  20\n",
            "5 x 5 =  25\n",
            "5 x 6 =  30\n",
            "5 x 7 =  35\n",
            "5 x 8 =  40\n",
            "5 x 9 =  45\n",
            "5 x 10 =  50\n",
            "-----------\n",
            "6 x 1 =  6\n",
            "6 x 2 =  12\n",
            "6 x 3 =  18\n",
            "6 x 4 =  24\n",
            "6 x 5 =  30\n",
            "6 x 6 =  36\n",
            "6 x 7 =  42\n",
            "6 x 8 =  48\n",
            "6 x 9 =  54\n",
            "6 x 10 =  60\n",
            "-----------\n"
          ]
        }
      ]
    },
    {
      "cell_type": "code",
      "metadata": {
        "colab": {
          "base_uri": "https://localhost:8080/"
        },
        "id": "voqxGQc_WsSM",
        "outputId": "ba5b7f84-341c-458b-fce8-dfa9d93e164c"
      },
      "source": [
        "# generadores de listas \n",
        "numeros = [0, 0, 0, 0, 0,]\n",
        "print(numeros)\n",
        "numeros = [ 0 for x in range(5) ]\n",
        "print(numeros)\n",
        "# empleando la variable de control x para el valor inicial \n",
        "numeros = [ x for x in range(5) ]\n",
        "print(numeros)\n",
        "# [10, 20, 30, 40, 50, 60, 70, 80, 90, 100]\n",
        "numeros = [(x+1)*10 for x in range(10)]\n",
        "print(numeros)\n",
        "print(\".-.-.-.-.\")\n",
        "numeros = [ x for x in range(10, 101, 10)]\n",
        "print(numeros)\n",
        "print(\".-.-.-.-.\")\n",
        "numeros = [ x*10 for x in range(1,11)]\n",
        "print(numeros)"
      ],
      "execution_count": null,
      "outputs": [
        {
          "output_type": "stream",
          "name": "stdout",
          "text": [
            "[0, 0, 0, 0, 0]\n",
            "[0, 0, 0, 0, 0]\n",
            "[0, 1, 2, 3, 4]\n",
            "[10, 20, 30, 40, 50, 60, 70, 80, 90, 100]\n",
            ".-.-.-.-.\n",
            "[10, 20, 30, 40, 50, 60, 70, 80, 90, 100]\n",
            ".-.-.-.-.\n",
            "[10, 20, 30, 40, 50, 60, 70, 80, 90, 100]\n"
          ]
        }
      ]
    },
    {
      "cell_type": "code",
      "metadata": {
        "colab": {
          "base_uri": "https://localhost:8080/"
        },
        "id": "I-QOEgZZYYmb",
        "outputId": "bed77a2a-0f83-48cd-8424-c24335e89d58"
      },
      "source": [
        "# ejercicio: calcular promedio de edades \n",
        "edades = [0 for x in range(5)]\n",
        "print(edades)\n",
        "\n",
        "\n",
        "suma = 0 \n",
        "edades = [0 for x in range(5)]\n",
        "for x in range(5):\n",
        "    edades[x]=int(input(\"Dame una edad: \"))\n",
        "    suma = suma + edades[x]\n",
        "print(edades)\n",
        "print(\"Promedio: \", suma/5)"
      ],
      "execution_count": null,
      "outputs": [
        {
          "output_type": "stream",
          "name": "stdout",
          "text": [
            "[0, 0, 0, 0, 0]\n",
            "Dame una edad: 20\n",
            "Dame una edad: 21\n",
            "Dame una edad: 33\n",
            "Dame una edad: 19\n",
            "Dame una edad: 18\n",
            "[20, 21, 33, 19, 18]\n",
            "Promedio:  22.2\n"
          ]
        }
      ]
    },
    {
      "cell_type": "code",
      "metadata": {
        "colab": {
          "base_uri": "https://localhost:8080/"
        },
        "id": "Ga5_QvnEcTbK",
        "outputId": "95db4c36-0a67-4a84-e5a0-7b0ba9c1d6c1"
      },
      "source": [
        "import random\n",
        "print(random.random())\n",
        "print(random.uniform(5,11))\n",
        "val = round(random.uniform(5,11) , 2)\n",
        "print(val)\n",
        "\n",
        "valores = [round(random.uniform(5,11),2) for x in range(20)]\n",
        "print(valores)"
      ],
      "execution_count": null,
      "outputs": [
        {
          "output_type": "stream",
          "name": "stdout",
          "text": [
            "0.304437053810354\n",
            "10.232075932303987\n",
            "8.3\n",
            "[9.24, 6.0, 10.49, 8.6, 7.8, 9.78, 5.24, 6.9, 8.45, 5.38, 5.13, 9.82, 5.09, 9.38, 8.52, 10.6, 9.54, 7.29, 7.94, 10.49]\n"
          ]
        }
      ]
    },
    {
      "cell_type": "markdown",
      "metadata": {
        "id": "D3iQxQpw6ZIC"
      },
      "source": [
        "## Estructura de control de repetición Haz - Mientras.\n",
        "\n",
        "Una estructura de control haz - mientras nos permite ejecutar repetidamente mientras una condición se siga cumpliendo. \n",
        "\n",
        "## Sintaxis \n",
        "\n",
        "```\n",
        "while <condición>:\n",
        "        <bloque de sentencias a ejecutar repetidamente>\n",
        "<siguiente sentencia posterior a while>\n",
        "```"
      ]
    },
    {
      "cell_type": "markdown",
      "metadata": {
        "id": "fNVkiK3r7RTv"
      },
      "source": [
        "###La diferencia principal en comparación con la estructura for es que con WHILE  No conoces el número se ciclos a ejecutar, en for si se conoce.\n",
        "Cómo ejemplo iniciemos con el siguiente enunciado.\n",
        "Hacer un programa que solicite un valor entero positivo y calcule repertidamente la mitad y se reasigne a la misma variable. El ciclo se debe detener cuando el resultado sea menor que 1 mostrar en la pantalla el resultado de cada cálculo y al final el número de iteraciones que realizó.\n",
        "\n",
        "```\n",
        "Introduce un número entero positivo: 17\n",
        "8.5\n",
        "4.25\n",
        "2.12\n",
        "1.06\n",
        "0.53\n",
        "Total de iteraciones = 5\n",
        "```"
      ]
    },
    {
      "cell_type": "code",
      "metadata": {
        "colab": {
          "base_uri": "https://localhost:8080/"
        },
        "id": "AdGS3Wn6-Vc6",
        "outputId": "502f1ba8-8c4e-4892-b8b9-05125b0ddc86"
      },
      "source": [
        "valor = int(input(\"Introduce un número entero positivo: \"))\n",
        "contador = 0\n",
        "if valor > 0:\n",
        "    while valor > 1.0:\n",
        "        valor = valor / 2\n",
        "        print( round(valor,2))\n",
        "        contador += 1\n",
        "else:\n",
        "    print(\"El número es negativo, intenta de nuevo\")\n",
        "print(\"Total de iteraciones = \",contador)"
      ],
      "execution_count": null,
      "outputs": [
        {
          "output_type": "stream",
          "name": "stdout",
          "text": [
            "Introduce un número entero positivo: 17\n",
            "8.5\n",
            "4.25\n",
            "2.12\n",
            "1.06\n",
            "0.53\n",
            "Total de iteraciones =  5\n"
          ]
        }
      ]
    },
    {
      "cell_type": "code",
      "metadata": {
        "colab": {
          "base_uri": "https://localhost:8080/"
        },
        "id": "ImgwCdV6_RQ5",
        "outputId": "80ee7000-f96f-4b29-db78-8a83846cc8c6"
      },
      "source": [
        "valor = int(input(\"Dame un valor entero: \"))\n",
        "\n",
        "while valor != 0:\n",
        "    print(valor)\n",
        "    valor = int(input(\"Dame un valor entero: \"))\n",
        "print(\"Fin del programa\")"
      ],
      "execution_count": null,
      "outputs": [
        {
          "name": "stdout",
          "output_type": "stream",
          "text": [
            "Dame un valor entero: 2\n",
            "2\n",
            "Dame un valor entero: 0\n"
          ]
        }
      ]
    },
    {
      "cell_type": "code",
      "metadata": {
        "id": "MxyskSOk_mdF"
      },
      "source": [
        "valor = int(input(\"Dame un valor entero: \"))\n",
        "while valor != 0:\n",
        "    print(valor)\n",
        "    print(\"Otras cosas\")\n",
        "print(\"Fin del programa\")"
      ],
      "execution_count": null,
      "outputs": []
    },
    {
      "cell_type": "code",
      "metadata": {
        "colab": {
          "base_uri": "https://localhost:8080/"
        },
        "id": "hu5KIrPuAEMY",
        "outputId": "c10451d4-134d-4bd4-b1c9-f153d6d5c26d"
      },
      "source": [
        "n = int(input(\"Ingrese un número entero positivo: \"))\n",
        "\n",
        "if n > 0:\n",
        "    print(\"Es correcto\")\n",
        "    for i in range(1, 11):\n",
        "        print(n, \"por\", i, \"es igual a\", n*(i))       \n",
        "else: \n",
        "    print(\"El número ingresado no es correcto\")"
      ],
      "execution_count": null,
      "outputs": [
        {
          "output_type": "stream",
          "name": "stdout",
          "text": [
            "Ingrese un número entero positivo: 3\n",
            "Es correcto\n",
            "3 por 1 es igual a 3\n",
            "3 por 2 es igual a 6\n",
            "3 por 3 es igual a 9\n",
            "3 por 4 es igual a 12\n",
            "3 por 5 es igual a 15\n",
            "3 por 6 es igual a 18\n",
            "3 por 7 es igual a 21\n",
            "3 por 8 es igual a 24\n",
            "3 por 9 es igual a 27\n",
            "3 por 10 es igual a 30\n"
          ]
        }
      ]
    },
    {
      "cell_type": "code",
      "metadata": {
        "colab": {
          "base_uri": "https://localhost:8080/"
        },
        "id": "CCuY06rWCH-0",
        "outputId": "78ebeb31-030f-4237-dcce-5dd3d5df7d35"
      },
      "source": [
        "comprobar = True\n",
        "\n",
        "while comprobar == True:\n",
        "    n = int(input(\"Ingrese un número entero positivo: \"))\n",
        "\n",
        "    if n > 0:\n",
        "        print(\"Es correcto\")\n",
        "        for i in range(1, 11):\n",
        "            print(n, \"por\", i, \"es igual a\", n*i)\n",
        "            comprobar = False       \n",
        "    else: \n",
        "        print(\"El número ingresado no es correcto\")"
      ],
      "execution_count": null,
      "outputs": [
        {
          "output_type": "stream",
          "name": "stdout",
          "text": [
            "Ingrese un número entero positivo: -4\n",
            "El número ingresado no es correcto\n",
            "Ingrese un número entero positivo: 3\n",
            "Es correcto\n",
            "3 por 1 es igual a 3\n",
            "3 por 2 es igual a 6\n",
            "3 por 3 es igual a 9\n",
            "3 por 4 es igual a 12\n",
            "3 por 5 es igual a 15\n",
            "3 por 6 es igual a 18\n",
            "3 por 7 es igual a 21\n",
            "3 por 8 es igual a 24\n",
            "3 por 9 es igual a 27\n",
            "3 por 10 es igual a 30\n"
          ]
        }
      ]
    },
    {
      "cell_type": "markdown",
      "metadata": {
        "id": "8Ps55mmhK4ds"
      },
      "source": [
        "Escribe un programa que al recibir como dato un número entero positivo N, calcule el resultado de la siguiente serie : \n",
        "1 + (1/2) +(1/3) + (1/4) + ... + (1/N)\n",
        "Si el usuario escribe un número incorrecto, el programa no se ejecuta. En camvbio pregunta de nuevo por la información hasta que el dato ingresado sea correcto. "
      ]
    },
    {
      "cell_type": "code",
      "metadata": {
        "colab": {
          "base_uri": "https://localhost:8080/"
        },
        "id": "xN6BjiNPJkyf",
        "outputId": "445096c6-2e47-448c-c980-da755efd32eb"
      },
      "source": [
        "comprobar = True\n",
        "\n",
        "while comprobar == True:\n",
        "    n = int(input(\"Ingrese un número entero positivo: \"))\n",
        "\n",
        "    resultado = 0\n",
        "\n",
        "    if n > 0: \n",
        "\n",
        "        for i in range(1, n+1):\n",
        "            resultado += (1/i)\n",
        "            print(\"El resultado de la serie es: \",resultado)\n",
        "            comprobar = False\n",
        "    else: \n",
        "        print(\"El número ingresado no es correcto, Intente de nuevo\")\n"
      ],
      "execution_count": 24,
      "outputs": [
        {
          "output_type": "stream",
          "name": "stdout",
          "text": [
            "Ingrese un número entero positivo: -3\n",
            "El número ingresado no es correcto, Intente de nuevo\n",
            "Ingrese un número entero positivo: 4\n",
            "El resultado de la serie es:  1.0\n",
            "El resultado de la serie es:  1.5\n",
            "El resultado de la serie es:  1.8333333333333333\n",
            "El resultado de la serie es:  2.083333333333333\n"
          ]
        }
      ]
    }
  ]
}