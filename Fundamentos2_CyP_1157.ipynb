{
  "nbformat": 4,
  "nbformat_minor": 0,
  "metadata": {
    "colab": {
      "name": "Fundamentos2_CyP_1157.ipynb",
      "provenance": [],
      "collapsed_sections": [],
      "authorship_tag": "ABX9TyPH0tbDV2G3OqtsfLRtm0cg",
      "include_colab_link": true
    },
    "kernelspec": {
      "name": "python3",
      "display_name": "Python 3"
    },
    "language_info": {
      "name": "python"
    }
  },
  "cells": [
    {
      "cell_type": "markdown",
      "metadata": {
        "id": "view-in-github",
        "colab_type": "text"
      },
      "source": [
        "<a href=\"https://colab.research.google.com/github/DiegoArroyo12/CYP/blob/master/Fundamentos2_CyP_1157.ipynb\" target=\"_parent\"><img src=\"https://colab.research.google.com/assets/colab-badge.svg\" alt=\"Open In Colab\"/></a>"
      ]
    },
    {
      "cell_type": "markdown",
      "metadata": {
        "id": "Lo6PDhp5FjRb"
      },
      "source": [
        "# Tipos de datos estructurados de python \n",
        "\n",
        "1. Listas \n",
        "2. Tuplas \n",
        "3. Diccionarios \n",
        "4. Conjuntos(opcional)"
      ]
    },
    {
      "cell_type": "markdown",
      "metadata": {
        "id": "HvYfdO6IFxWw"
      },
      "source": [
        "# Listas \n",
        "\n",
        "- Tipo de datos que agrupa variables o valores. \n",
        "- Estructura secuencial (undexados empezando por (0)\n",
        "- Se declara de dos formas#\n",
        "    - usando []\n",
        "    - usando list ()\n",
        "    - usando un generador\n",
        "- Puede contener tipos de dato diversos (En otros otros lenguajes de prog. eso no es posible de forma directa)\n",
        "- Los elementos internos se seleccionan con []\n",
        "- Soporta slicing\n",
        "- SON MUTABLES \n",
        "-GENERADORES [var for x in range (10)]\n",
        "- Al ser una clase contiene muchos métodos útiles"
      ]
    },
    {
      "cell_type": "code",
      "metadata": {
        "colab": {
          "base_uri": "https://localhost:8080/"
        },
        "id": "J1MYgEPiFb3I",
        "outputId": "41674c60-74c1-4853-d6eb-711fd228888a"
      },
      "source": [
        "numeros = [10,5,2,3,1]\n",
        "print(numeros)\n",
        "\n",
        "numeros2 = list()\n",
        "numeros2.append(10)\n",
        "numeros2.append(5)\n",
        "numeros2.append(2)\n",
        "numeros2.append(3)\n",
        "numeros2.append(1)\n",
        "print(numeros2)\n",
        "\n",
        "numeros[2] = 20\n",
        "numeros[-1] = 33 \n",
        "numeros.append(88)\n",
        "print(numeros)"
      ],
      "execution_count": null,
      "outputs": [
        {
          "output_type": "stream",
          "name": "stdout",
          "text": [
            "[10, 5, 2, 3, 1]\n",
            "[10, 5, 2, 3, 1]\n",
            "[10, 5, 20, 3, 33, 88]\n"
          ]
        }
      ]
    },
    {
      "cell_type": "code",
      "metadata": {
        "colab": {
          "base_uri": "https://localhost:8080/"
        },
        "id": "Uw-Xp9-KIc3i",
        "outputId": "f0590f7b-327f-4d9b-a864-8cc983683c80"
      },
      "source": [
        "# tipos diversos \n",
        "\n",
        "cosas = [12, 2, True , \"José\" , 1.57 , [\"pera\" , \"kiwi\" , \"uva\"]]\n",
        "print(cosas)\n",
        "print(cosas[1])\n",
        "print(cosas[4])\n",
        "print(cosas[5])\n",
        "print(cosas[5][1])\n",
        "print(cosas[3][1:3])\n",
        "cosas[3] = cosas[3].upper()\n",
        "print(cosas)\n"
      ],
      "execution_count": null,
      "outputs": [
        {
          "output_type": "stream",
          "name": "stdout",
          "text": [
            "[12, 2, True, 'José', 1.57, ['pera', 'kiwi', 'uva']]\n",
            "2\n",
            "1.57\n",
            "['pera', 'kiwi', 'uva']\n",
            "kiwi\n",
            "os\n",
            "[12, 2, True, 'JOSÉ', 1.57, ['pera', 'kiwi', 'uva']]\n"
          ]
        }
      ]
    },
    {
      "cell_type": "code",
      "metadata": {
        "colab": {
          "base_uri": "https://localhost:8080/"
        },
        "id": "IF_MQfriL2as",
        "outputId": "2c7c3f72-6cf8-4e3c-be10-7d32a9989079"
      },
      "source": [
        "numeros = [1,2,3,4,5,6,7,8,9,10,11]\n",
        "print(numeros)\n",
        "#slicing\n",
        "#1.- 4 al 8???\n",
        "print(numeros[3:8])\n",
        "# 2.- [9,10]\n",
        "print(numeros[8:10])\n",
        "print(numeros[-3:-1])\n",
        "# 3.- imprimir la lista en orden inverso [11,10,9,etc...,1]\n",
        "print(numeros[::-1])"
      ],
      "execution_count": null,
      "outputs": [
        {
          "output_type": "stream",
          "name": "stdout",
          "text": [
            "[1, 2, 3, 4, 5, 6, 7, 8, 9, 10, 11]\n",
            "[4, 5, 6, 7, 8]\n",
            "[9, 10]\n",
            "[9, 10]\n",
            "[11, 10, 9, 8, 7, 6, 5, 4, 3, 2, 1]\n"
          ]
        }
      ]
    },
    {
      "cell_type": "code",
      "metadata": {
        "colab": {
          "base_uri": "https://localhost:8080/"
        },
        "id": "DRDNqAcNPnow",
        "outputId": "8667eab8-3a9b-4eda-b72d-aba4ccd3a4c4"
      },
      "source": [
        "# Crear una lista con un generador \n",
        "numeros = [ x*3 for x in range(101)]\n",
        "print(numeros)"
      ],
      "execution_count": null,
      "outputs": [
        {
          "output_type": "stream",
          "name": "stdout",
          "text": [
            "[0, 3, 6, 9, 12, 15, 18, 21, 24, 27, 30, 33, 36, 39, 42, 45, 48, 51, 54, 57, 60, 63, 66, 69, 72, 75, 78, 81, 84, 87, 90, 93, 96, 99, 102, 105, 108, 111, 114, 117, 120, 123, 126, 129, 132, 135, 138, 141, 144, 147, 150, 153, 156, 159, 162, 165, 168, 171, 174, 177, 180, 183, 186, 189, 192, 195, 198, 201, 204, 207, 210, 213, 216, 219, 222, 225, 228, 231, 234, 237, 240, 243, 246, 249, 252, 255, 258, 261, 264, 267, 270, 273, 276, 279, 282, 285, 288, 291, 294, 297, 300]\n"
          ]
        }
      ]
    },
    {
      "cell_type": "markdown",
      "metadata": {
        "id": "xIYMGZb-QXUN"
      },
      "source": [
        "# Función range \n",
        "\n",
        "Tiene los mismos componentes que slicing \n",
        "inicio, stop , incremento\n",
        "\n",
        "range(1, 101, 1)\n"
      ]
    },
    {
      "cell_type": "code",
      "metadata": {
        "colab": {
          "base_uri": "https://localhost:8080/"
        },
        "id": "DZQQJ__uQu4Z",
        "outputId": "d38fcf70-cbc3-434e-ef26-866fa99c5180"
      },
      "source": [
        "numeros = [ x for x in range(50,101,5)]\n",
        "print(numeros)"
      ],
      "execution_count": null,
      "outputs": [
        {
          "output_type": "stream",
          "name": "stdout",
          "text": [
            "[50, 55, 60, 65, 70, 75, 80, 85, 90, 95, 100]\n"
          ]
        }
      ]
    },
    {
      "cell_type": "markdown",
      "metadata": {
        "id": "U37QB4YvRIrF"
      },
      "source": [
        "# Métodos disponibles de las listas \n",
        "\n"
      ]
    },
    {
      "cell_type": "code",
      "metadata": {
        "colab": {
          "base_uri": "https://localhost:8080/"
        },
        "id": "lD6GjEwXROBt",
        "outputId": "32bb57c7-f657-4d67-9028-3abab32bd921"
      },
      "source": [
        "dir(list)"
      ],
      "execution_count": null,
      "outputs": [
        {
          "output_type": "execute_result",
          "data": {
            "text/plain": [
              "['__add__',\n",
              " '__class__',\n",
              " '__contains__',\n",
              " '__delattr__',\n",
              " '__delitem__',\n",
              " '__dir__',\n",
              " '__doc__',\n",
              " '__eq__',\n",
              " '__format__',\n",
              " '__ge__',\n",
              " '__getattribute__',\n",
              " '__getitem__',\n",
              " '__gt__',\n",
              " '__hash__',\n",
              " '__iadd__',\n",
              " '__imul__',\n",
              " '__init__',\n",
              " '__init_subclass__',\n",
              " '__iter__',\n",
              " '__le__',\n",
              " '__len__',\n",
              " '__lt__',\n",
              " '__mul__',\n",
              " '__ne__',\n",
              " '__new__',\n",
              " '__reduce__',\n",
              " '__reduce_ex__',\n",
              " '__repr__',\n",
              " '__reversed__',\n",
              " '__rmul__',\n",
              " '__setattr__',\n",
              " '__setitem__',\n",
              " '__sizeof__',\n",
              " '__str__',\n",
              " '__subclasshook__',\n",
              " 'append',\n",
              " 'clear',\n",
              " 'copy',\n",
              " 'count',\n",
              " 'extend',\n",
              " 'index',\n",
              " 'insert',\n",
              " 'pop',\n",
              " 'remove',\n",
              " 'reverse',\n",
              " 'sort']"
            ]
          },
          "metadata": {},
          "execution_count": 26
        }
      ]
    },
    {
      "cell_type": "code",
      "metadata": {
        "colab": {
          "base_uri": "https://localhost:8080/"
        },
        "id": "WfghZR9tSa6D",
        "outputId": "c038499c-7b7b-40ee-f964-16ab48338894"
      },
      "source": [
        "numeros = [4,1,15,8,22,34,50,15]\n",
        "print(numeros)\n",
        "numeros.append(99)\n",
        "print(numeros)\n",
        "#numeros.clear()\n",
        "print(numeros)\n",
        "\n",
        "frutas = [\"uvas\" , \"kiwi\", \"manzana\"]\n",
        "copia = frutas\n",
        "print(frutas)\n",
        "print(copia)\n",
        "frutas.append(\"Naranja\")\n",
        "print(frutas)\n",
        "print(copia)\n",
        "\n",
        "colores = [\"rojo\" , \"azul\" , \"blanco\"]\n",
        "copia2 = colores.copy()\n",
        "print(colores)\n",
        "print(copia2)\n",
        "colores.append(\"verde\")\n",
        "print(colores)\n",
        "print(copia2)\n",
        "\n",
        "print(\"Número de veces que aparece el 15: \" , numeros.count(15))\n",
        "\n",
        "# extend\n",
        "\n",
        "nombres = [\"jose\" , \"pedro\" , \"karina\"]\n",
        "otrosNombres = [\"josue\", \"diana\", \"dalia\"]\n",
        "\n",
        "print(nombres)\n",
        "print(otrosNombres)\n",
        "nombres = nombres + otrosNombres\n",
        "print(nombres)\n",
        "print(otrosNombres)\n",
        "\n",
        "# lo mismo con el método extend\n",
        "otrosNombres.extend([\"Jesús\", \"María\", \"José\"])\n",
        "print(otrosNombres)\n",
        "print(\"Jesús esta en la posición: \" , otrosNombres.index(\"Jesús\"))\n",
        "otrosNombres.insert(4, \"Espíritu Santo\")\n",
        "print(otrosNombres)\n",
        "\n",
        "# pop \n",
        "resultado = otrosNombres.pop()\n",
        "print(otrosNombres)\n",
        "print(resultado)"
      ],
      "execution_count": null,
      "outputs": [
        {
          "output_type": "stream",
          "name": "stdout",
          "text": [
            "[4, 1, 15, 8, 22, 34, 50, 15]\n",
            "[4, 1, 15, 8, 22, 34, 50, 15, 99]\n",
            "[4, 1, 15, 8, 22, 34, 50, 15, 99]\n",
            "['uvas', 'kiwi', 'manzana']\n",
            "['uvas', 'kiwi', 'manzana']\n",
            "['uvas', 'kiwi', 'manzana', 'Naranja']\n",
            "['uvas', 'kiwi', 'manzana', 'Naranja']\n",
            "['rojo', 'azul', 'blanco']\n",
            "['rojo', 'azul', 'blanco']\n",
            "['rojo', 'azul', 'blanco', 'verde']\n",
            "['rojo', 'azul', 'blanco']\n",
            "Número de veces que aparece el 15:  2\n",
            "['jose', 'pedro', 'karina']\n",
            "['josue', 'diana', 'dalia']\n",
            "['jose', 'pedro', 'karina', 'josue', 'diana', 'dalia']\n",
            "['josue', 'diana', 'dalia']\n",
            "['josue', 'diana', 'dalia', 'Jesús', 'María', 'José']\n",
            "Jesús esta en la posición:  3\n",
            "['josue', 'diana', 'dalia', 'Jesús', 'Espíritu Santo', 'María', 'José']\n",
            "['josue', 'diana', 'dalia', 'Jesús', 'Espíritu Santo', 'María']\n",
            "José\n"
          ]
        }
      ]
    },
    {
      "cell_type": "markdown",
      "metadata": {
        "id": "-q3zFIq6v7Sa"
      },
      "source": [
        "# Tuplas \n",
        "\n",
        "### Características de las tuplas \n",
        "\n",
        "- Datos agrupados.\n",
        "- Se declara usando\n",
        "\n",
        "    -( )\n",
        "    -tuple\n",
        "- Estructura secuencial, indexada a partir de 0.\n",
        "- Pueden tener de 0 a n elementos. \n",
        "- NO SON MUTABLES (No se puede: Eliminar y/o cambiar)\n",
        "- Son buenas para almacenar información de consulta.\n",
        "- Pueden almacenar información de diferentes tipos de datos. \n",
        "- Pueden estar anidadas. \n",
        "- Tienen métodos útiles."
      ]
    },
    {
      "cell_type": "code",
      "metadata": {
        "colab": {
          "base_uri": "https://localhost:8080/"
        },
        "id": "_PO1fA4Lw94S",
        "outputId": "8c1e6ab7-14b2-4a79-93d5-7ac5101c2044"
      },
      "source": [
        "info = (\"juan23\" , \"dios1234\" , \"123.232.1.12\")\n",
        "print(info)\n",
        "print(info[1])\n",
        "#info[1] = \"patito23\" esto no se puede hacer \n",
        "\n",
        "numeros = (0,1,2,3,4,5,6,7,8,9,10,11,12,13,14,15)\n",
        "print(numeros)\n",
        "print(numeros[5:11])\n",
        "\n",
        "cosas = ( info , numeros )\n",
        "print( cosas )\n",
        "print( cosas[1][5:11:1])\n",
        "print( cosas[0][2][4:7])"
      ],
      "execution_count": null,
      "outputs": [
        {
          "output_type": "stream",
          "name": "stdout",
          "text": [
            "('juan23', 'dios1234', '123.232.1.12')\n",
            "dios1234\n",
            "(0, 1, 2, 3, 4, 5, 6, 7, 8, 9, 10, 11, 12, 13, 14, 15)\n",
            "(5, 6, 7, 8, 9, 10)\n",
            "(('juan23', 'dios1234', '123.232.1.12'), (0, 1, 2, 3, 4, 5, 6, 7, 8, 9, 10, 11, 12, 13, 14, 15))\n",
            "(5, 6, 7, 8, 9, 10)\n",
            "232\n"
          ]
        }
      ]
    },
    {
      "cell_type": "markdown",
      "metadata": {
        "id": "okWYA8-b0s4T"
      },
      "source": [
        "# Métodos de las tuplas \n",
        "\n",
        "Son los mismos de las listas pero que no involucren mutabilidad. "
      ]
    },
    {
      "cell_type": "code",
      "metadata": {
        "colab": {
          "base_uri": "https://localhost:8080/"
        },
        "id": "-s5JkKKc2w4o",
        "outputId": "0085abba-aeaa-4e64-8834-6b28d75ced94"
      },
      "source": [
        "dir(tuple)"
      ],
      "execution_count": null,
      "outputs": [
        {
          "output_type": "execute_result",
          "data": {
            "text/plain": [
              "['__add__',\n",
              " '__class__',\n",
              " '__contains__',\n",
              " '__delattr__',\n",
              " '__dir__',\n",
              " '__doc__',\n",
              " '__eq__',\n",
              " '__format__',\n",
              " '__ge__',\n",
              " '__getattribute__',\n",
              " '__getitem__',\n",
              " '__getnewargs__',\n",
              " '__gt__',\n",
              " '__hash__',\n",
              " '__init__',\n",
              " '__init_subclass__',\n",
              " '__iter__',\n",
              " '__le__',\n",
              " '__len__',\n",
              " '__lt__',\n",
              " '__mul__',\n",
              " '__ne__',\n",
              " '__new__',\n",
              " '__reduce__',\n",
              " '__reduce_ex__',\n",
              " '__repr__',\n",
              " '__rmul__',\n",
              " '__setattr__',\n",
              " '__sizeof__',\n",
              " '__str__',\n",
              " '__subclasshook__',\n",
              " 'count',\n",
              " 'index']"
            ]
          },
          "metadata": {},
          "execution_count": 6
        }
      ]
    },
    {
      "cell_type": "markdown",
      "metadata": {
        "id": "oKU2zwzf23Lm"
      },
      "source": [
        "# Diccionarios \n",
        "### Características de los diccionarios\n",
        "\n",
        "- Agrupan datos pero de forma no lineal.\n",
        "- Se declaran con: \n",
        "  - {}\n",
        "  -dict()\n",
        "- Formado por pares del tipo llave:valor , donde\n",
        "    - llave es de tipo string (siempre)\n",
        "    - valor puede ser de cualquier tipo de datos, incluyendo los diccionarios. \n",
        "- Se seleccionan con la llave de la forma: [\"id_llave\"]\n",
        "- Son mutables \n",
        "- Son anidables\n",
        "- Son equivalentes al tipo de dato JSON del lenguaje JavaScript(JS)\n"
      ]
    },
    {
      "cell_type": "code",
      "metadata": {
        "colab": {
          "base_uri": "https://localhost:8080/"
        },
        "id": "n5sVL8g94juJ",
        "outputId": "97d4b3f6-367a-4190-e11b-f2659455a5ad"
      },
      "source": [
        "alumno = { \"nombre\" : \"Diego\" }\n",
        "print( alumno )\n",
        "print( alumno[\"nombre\"] )\n",
        "alumno = { \"nombre\" : \"Diego\" , \"nc\": \"2129229292\", \"edad\": 18}\n",
        "print(\"Edad del alumno = \" , alumno[\"edad\"])\n",
        "print(alumno['nombre'].upper())\n",
        "print(alumno)\n",
        "\n",
        "print(\"Alumno 2 : \")\n",
        "alumno2 = dict() #{ }\n",
        "alumno2[\"nombre\"] = \"Diego\"\n",
        "print(alumno2)\n",
        "alumno2[\"nc\"] = \"2129229292\"\n",
        "alumno2[\"edad\"] = 18\n",
        "print(alumno2)\n",
        "alumno2[\"edad\"] = alumno2[\"edad\"] + 1\n",
        "print(alumno2)"
      ],
      "execution_count": null,
      "outputs": [
        {
          "output_type": "stream",
          "name": "stdout",
          "text": [
            "{'nombre': 'Diego'}\n",
            "Diego\n",
            "Edad del alumno =  18\n",
            "DIEGO\n",
            "{'nombre': 'Diego', 'nc': '2129229292', 'edad': 18}\n",
            "Alumno 2 : \n",
            "{'nombre': 'Diego'}\n",
            "{'nombre': 'Diego', 'nc': '2129229292', 'edad': 18}\n",
            "{'nombre': 'Diego', 'nc': '2129229292', 'edad': 19}\n"
          ]
        }
      ]
    },
    {
      "cell_type": "code",
      "metadata": {
        "colab": {
          "base_uri": "https://localhost:8080/"
        },
        "id": "Q2M4Xk2s8PVe",
        "outputId": "7c63bc21-f1d0-44c4-d798-267a53aa8720"
      },
      "source": [
        "cliente = { \"id\":\"CT2121\" , \n",
        "           \"nombre\":\"Diego Arroyo Palacios\" , \n",
        "           \"telefonos\":\"casa=5546336703  cel=0445584075908\"}\n",
        "\n",
        "print(cliente)\n",
        "cliente = { \"id\":\"CT2121\" , \n",
        "           \"nombre\" : {\n",
        "               \"nombres\" : [\"Diego\", \"David\"], \n",
        "               \"paterno\" : \"Arroyo\" , \n",
        "               \"materno\" : \"Palacios\"\n",
        "           } , \n",
        "           \"telefonos\" : {\n",
        "               \"casa\" : \"5546336703\" , \n",
        "               \"trabajo\" : \"5544223366\" ,\n",
        "               \"celular\" : \"0445584075908\"\n",
        "           } ,\n",
        "           \"productos\" : {\n",
        "                    \"ahorro\" : {\"numero_cuenta\":\"7788\" , \"ahorro\":2500.5},\n",
        "                    \"tarjetas\":[\n",
        "                                 {\"tipo\":\"debito\" , \"saldo\":10000.5},\n",
        "                                 {\"tipo\":\"credito preferente\" , \"limite\":250000.5},\n",
        "                                 {\"tipo\":\"lite\" , \"limite\": 15000.5}\n",
        "                    ],\n",
        "            \"dirección\" : {\n",
        "                \"calle\":\"Av. Central\",\n",
        "                \"numero\":471,\n",
        "                \"colonia\":\"Lomas de Becerra\", \n",
        "                \"delegación\":\"Álvaro Obregón\",\n",
        "                \"estado\": {\n",
        "                           \"clave\": 15,\n",
        "                           \"nombre_corto\":\"CDMX\",\n",
        "                           \"nombre\":\"Ciudad de México\"\n",
        "                          }\n",
        "                          }        \n",
        "           }\n",
        "           \n",
        "           }\n",
        "print( cliente[\"telefonos\"][\"casa\"] )\n",
        "print(cliente)\n",
        "print(cliente[\"productos\"][\"ahorro\"][\"ahorro\"])\n",
        "print(cliente[\"productos\"][\"tarjetas\"][2][\"limite\"])\n",
        "\n",
        "print(cliente[\"productos\"][\"ahorro\"][\"ahorro\"])"
      ],
      "execution_count": null,
      "outputs": [
        {
          "output_type": "stream",
          "name": "stdout",
          "text": [
            "{'id': 'CT2121', 'nombre': 'Diego Arroyo Palacios', 'telefonos': 'casa=5546336703  cel=0445584075908'}\n",
            "5546336703\n",
            "{'id': 'CT2121', 'nombre': {'nombres': ['Diego', 'David'], 'paterno': 'Arroyo', 'materno': 'Palacios'}, 'telefonos': {'casa': '5546336703', 'trabajo': '5544223366', 'celular': '0445584075908'}, 'productos': {'ahorro': {'numero_cuenta': '7788', 'ahorro': 2500.5}, 'tarjetas': [{'tipo': 'debito', 'saldo': 10000.5}, {'tipo': 'credito preferente', 'limite': 250000.5}, {'tipo': 'lite', 'limite': 15000.5}], 'dirección': {'calle': 'Av. Central', 'numero': 471, 'colonia': 'Lomas de Becerra', 'delegación': 'Álvaro Obregón', 'estado': {'clave': 15, 'nombre_corto': 'CDMX', 'nombre': 'Ciudad de México'}}}}\n",
            "2500.5\n",
            "15000.5\n",
            "2500.5\n"
          ]
        }
      ]
    },
    {
      "cell_type": "code",
      "metadata": {
        "colab": {
          "base_uri": "https://localhost:8080/"
        },
        "id": "7MZ9gs8mKOv9",
        "outputId": "eecf3d16-d1e5-4c90-e12a-6982a43671b6"
      },
      "source": [
        "star_wars = {\"Capítulo I\":{\"La Amenaza fantasma\":{\"El inicio de la historia con Anakin Skywalker\"}},\n",
        "             \"Capítulo II\":{\"El Ataque de los Clones\":{\"Descubren que se ha hecho un ejercito de clones\"}},\n",
        "             \"Capítulo III\":{\"La Venganza de los Sith\":{\"Anakin se convierte en Darth Vader\"}},\n",
        "             \"Capítulo IV\":{\"Una Nueva Esperanza\":{\"El hijo secreto de Anakin descubre su conexión con la fuerza\"}},\n",
        "             \"Capítulo V\":{\"El Imperio Contraataca\":{\"El imperio da un golpe fuerte contra la rebelión\"}},\n",
        "             \"Capítulo VI\":{\"El Retorno del Jedi\":{\"Derrotan al imperio\"}},\n",
        "             \"Capítulo VII\":{\"El Despertar de la Fuerza\":{\"Surge la Primera Orden\"}},\n",
        "             \"Capítulo VIII\":{\"Los Últimos Jedi\"}}\n",
        "\n",
        "print(star_wars[\"Capítulo III\"])"
      ],
      "execution_count": null,
      "outputs": [
        {
          "output_type": "stream",
          "name": "stdout",
          "text": [
            "{'La Venganza de los Sith': {'Anakin se convierte en Darth Vader'}}\n"
          ]
        }
      ]
    },
    {
      "cell_type": "markdown",
      "metadata": {
        "id": "EDsQPn_AOkXz"
      },
      "source": [
        "# Estructuras de control de programación \n",
        "\n",
        "Se puede crear cualquier tipo de algoritmo solamente 3 estructuras de control:\n",
        "\n",
        "1. Secuencia:\n",
        "      - La representación de la memoria de programa (Arquitectura Vonn Newman) \n",
        "2. Selección:\n",
        "      - Es la estructura de control que decide si un bloque de programa se ejecuta o no se ejecuta. Tabién permite seleccionar ejecutar un bloque entre un conjunto de opciones. En resumen tenemos: Selección simple, selección con bifurcación y selección múltiple. \n",
        "3. Repetición: \n",
        "      -Este tipo de estructura nos permite automatizar la ejecución repetitiva de código mientras ciertas condiciones se cumplan, tenemos 3 variantes de esta estructura en todos los lenguajes de programación:\n",
        "      - Desde...hasta(estructura for)\n",
        "      - haz mientras (estructura while)\n",
        "      - haz y luego validez mientras (estructura Do-While)"
      ]
    },
    {
      "cell_type": "markdown",
      "metadata": {
        "id": "ax0HxWbzSBDD"
      },
      "source": [
        "# Selección Simple \n",
        "-- Documentar o poner notas\n",
        "\n",
        "La estructura if \n",
        "\n",
        "```\n",
        "if <CONDICION>:\n",
        "    <Cuerpo del if>\n",
        "```\n",
        "\n",
        "**NOTA** Para establecer el cuerpo de una estructura de control en Python se usan los tabuladores a la izquierda. \n",
        "\n",
        "En otros lenguajes de programación como java, c y c++... se usan las llaves {} \n",
        "\n",
        "```\n",
        "int edad =0;\n",
        "printf(\"Dame tu edad\");\n",
        "scanf(\"%i\", &edad );\n",
        "if(edad >= 18 ) {\n",
        "    printf(\"ERES MAYOR DE EDAD\")\n",
        "}\n",
        "printf(\"Fin de programa)\n",
        "```"
      ]
    },
    {
      "cell_type": "code",
      "metadata": {
        "colab": {
          "base_uri": "https://localhost:8080/"
        },
        "id": "-BWTWkhnSIbG",
        "outputId": "98a75c8e-5877-425f-eb10-a618fd5b2cba"
      },
      "source": [
        "edad = int(input(\"Dame tu edad: \"))\n",
        "print(f\"Tecleaste {edad} años\")\n",
        "if edad >= 18 : \n",
        "  print(\"Eres mayor de edad\")\n",
        "  print(\"Algo\")\n",
        "  print(\"Otra cosa\")\n",
        "print(\"Fin de programa\")"
      ],
      "execution_count": null,
      "outputs": [
        {
          "output_type": "stream",
          "name": "stdout",
          "text": [
            "Dame tu edad: 18\n",
            "Tecleaste 18 años\n",
            "Eres mayor de edad\n",
            "Algo\n",
            "Otra cosa\n",
            "Fin de programa\n"
          ]
        }
      ]
    },
    {
      "cell_type": "code",
      "metadata": {
        "colab": {
          "base_uri": "https://localhost:8080/"
        },
        "id": "URPS2FYyXkOC",
        "outputId": "589c23a5-edb2-445e-9ab1-7ca0aaf4b609"
      },
      "source": [
        "cal = float(input(\"Dame tu calificación: \"))\n",
        "if cal > 8:\n",
        "  print(\"Aprobado\")\n",
        "print(\"Fin del programa\")"
      ],
      "execution_count": null,
      "outputs": [
        {
          "output_type": "stream",
          "name": "stdout",
          "text": [
            "Dame tu calificación: 9\n",
            "Aprobado\n",
            "Fin del programa\n"
          ]
        }
      ]
    },
    {
      "cell_type": "code",
      "metadata": {
        "colab": {
          "base_uri": "https://localhost:8080/"
        },
        "id": "u4l-Bor8X5Wz",
        "outputId": "cfb9a55e-b514-475d-ad8b-af18847dd28a"
      },
      "source": [
        "sue = float(input(\"¿Cuál es tu sueldo?: \"))\n",
        "aum = 0 \n",
        "msue = 0\n",
        "if sue < 1000:\n",
        "  aum = sue*0.15\n",
        "  msue = sue + aum \n",
        "  print(msue)\n",
        "print(\"Fin del programa\")"
      ],
      "execution_count": null,
      "outputs": [
        {
          "output_type": "stream",
          "name": "stdout",
          "text": [
            "¿Cuál es tu sueldo?: 875.50\n",
            "1006.825\n",
            "Fin del programa\n"
          ]
        }
      ]
    },
    {
      "cell_type": "markdown",
      "metadata": {
        "id": "BxtIO49VGiqG"
      },
      "source": [
        "# Estructura de Selección con bifurcacipon (if - else )\n",
        "\n",
        "Esta estructura selecciona una de dos opciones de ejecución, se ejecuta un bloque si la condición se cumple o se ejecuta otro bloque si la condición no se cumple (else).\n",
        "\n",
        "```\n",
        "\n",
        "if <condicion> \n",
        "      <bloque de ejecución>\n",
        "else:\n",
        "      <bloque de ejecición alterno>\n",
        "\n",
        "```"
      ]
    },
    {
      "cell_type": "code",
      "metadata": {
        "colab": {
          "base_uri": "https://localhost:8080/"
        },
        "id": "HVyFjdzjHdzj",
        "outputId": "13fe1ee8-fcab-425b-a1ac-d89b24cb9d64"
      },
      "source": [
        "edad = int(input(\"Dame tu edad: \"))\n",
        "print(f\"Tecleaste {edad} años\")\n",
        "if edad >= 18:\n",
        "    print(\"Eres mayor de edad, ten tú cheve\")\n",
        "else:\n",
        "    print(\"Eres menor de edad, ten tú boing\")\n",
        "print(\"Fin del programa\")"
      ],
      "execution_count": 3,
      "outputs": [
        {
          "output_type": "stream",
          "name": "stdout",
          "text": [
            "Dame tu edad: 15\n",
            "Tecleaste 15 años\n",
            "Eres menor de edad, ten tú boing\n",
            "Fin del programa\n"
          ]
        }
      ]
    },
    {
      "cell_type": "code",
      "metadata": {
        "colab": {
          "base_uri": "https://localhost:8080/"
        },
        "id": "Z_MyxnOIJOqN",
        "outputId": "c4505e02-f03c-45e2-96fc-b71ae379551e"
      },
      "source": [
        "edad = int(input(\"Dame tu edad: \"))\n",
        "dinero = float(input(\"Cuanto dinero tienes: \"))\n",
        "print(f\"Tecleaste {edad} años\")\n",
        "print(f\"Tecleaste {dinero} dinero\")\n",
        "if edad >= 18 and dinero >= 36:\n",
        "    print(\"Eres mayor de edad, ten tú cheve\")\n",
        "elif edad >=18 and dinero < 36:\n",
        "    print(\"No tienes suficiente dinero\")\n",
        "else:\n",
        "    print(\"Eres menor de edad, ten tú boing\")\n",
        "print(\"Fin del programa\")"
      ],
      "execution_count": 9,
      "outputs": [
        {
          "output_type": "stream",
          "name": "stdout",
          "text": [
            "Dame tu edad: 18\n",
            "Cuanto dinero tienes: 30\n",
            "Tecleaste 18 años\n",
            "Tecleaste 30.0 dinero\n",
            "No tienes suficiente dinero\n",
            "Fin del programa\n"
          ]
        }
      ]
    },
    {
      "cell_type": "code",
      "metadata": {
        "id": "n3YDc5fYNQHO"
      },
      "source": [
        "edad = int(input(\"Dame tu edad: \"))\n",
        "dinero = float(input(\"Cuanto dinero tienes: \"))\n",
        "print(f\"Tecleaste {edad} años\")\n",
        "print(f\"Tecleaste {dinero} dinero\")\n",
        "if edad >= 18 :\n",
        "    if dinero >=36 :\n",
        "        print(\"Ten tu cheve\")\n",
        "    else:\n",
        "        print(\"tienes la edad pero no tienes dinero suficiente\")\n",
        "else:\n",
        "    if dinero >= 36 :\n",
        "    print(\"Tienes dinero suficiente pero no tienes la edad\")\n",
        "else:\n",
        "    print(\"No tienes la edad ni el dinero, ve a jugar roblox a tu casa\")"
      ],
      "execution_count": null,
      "outputs": []
    },
    {
      "cell_type": "markdown",
      "metadata": {
        "id": "7u0bsiXzMqxN"
      },
      "source": [
        "El código anterior, se puede simplificar usando una palabra reservada especial que existe en algunos lenguajes de programación:\n",
        "\n",
        "### ELIF"
      ]
    },
    {
      "cell_type": "code",
      "metadata": {
        "colab": {
          "base_uri": "https://localhost:8080/"
        },
        "id": "BS1CR0rAPhI9",
        "outputId": "aa5b46ab-da95-418e-d002-5e96eb392229"
      },
      "source": [
        "# Ejemplo 2.1\n",
        "CAL= float(input(\"Escribe tu calificiación: \"))\n",
        "if CAL >= 8 :\n",
        "    print(\"Aprobado\")\n",
        "else: \n",
        "    print(\"Reprobado\")"
      ],
      "execution_count": 10,
      "outputs": [
        {
          "output_type": "stream",
          "name": "stdout",
          "text": [
            "Escribe tu calificiación: 8\n",
            "Aprobado\n"
          ]
        }
      ]
    },
    {
      "cell_type": "code",
      "metadata": {
        "colab": {
          "base_uri": "https://localhost:8080/"
        },
        "id": "c-2Nj0gxPsqU",
        "outputId": "87bc868e-5be0-48bb-d06a-0e093bc2e67b"
      },
      "source": [
        "# Ejemplo 2.4\n",
        "SUE = float(input(\"Escribe el sueldo: \"))\n",
        "AUM = 0 \n",
        "NSUE = 0\n",
        "\n",
        "if SUE < 1000 :\n",
        "    AUM = SUE* 0.15\n",
        "    NSUE = SUE + AUM\n",
        "    print(NSUE)\n",
        "else:\n",
        "    AUM= SUE*0.12\n",
        "    NSUE = SUE + AUM\n",
        "    print(NSUE)"
      ],
      "execution_count": 11,
      "outputs": [
        {
          "output_type": "stream",
          "name": "stdout",
          "text": [
            "Escribe el sueldo: 1000\n",
            "1120.0\n"
          ]
        }
      ]
    },
    {
      "cell_type": "markdown",
      "metadata": {
        "id": "S1UhfO0QPdox"
      },
      "source": [
        "# Ejercicio if - else\n",
        "### Hacer un programa que solicite el día de la semana en un valor numérico entero del 1 al 7 (Avisarle al usuario si proporciono un valor fuera del rango).\n",
        "\n",
        "### Posteriormente imprimirá el día de la semana correspondiente el número capturado\n",
        "\n",
        "1. lunes\n",
        "2. martes\n",
        "3. miercoles\n",
        "4. jueves\n",
        "5. viernes\n",
        "6. sabado\n",
        "7. domimingo"
      ]
    },
    {
      "cell_type": "code",
      "metadata": {
        "colab": {
          "base_uri": "https://localhost:8080/"
        },
        "id": "bctheYo0SDI_",
        "outputId": "6cb2ab42-2129-4a04-cdfa-ad4b33f45b6e"
      },
      "source": [
        "dia = int(input(\"Ingresa un día de la semana en su valor numérico: \"))\n",
        "if dia == 1:\n",
        "        print(\"Lunes\")\n",
        "elif dia == 2:\n",
        "        print(\"Martes\")\n",
        "elif dia == 3:\n",
        "        print(\"Miercoles\")\n",
        "elif dia == 4:\n",
        "        print(\"Jueves\")\n",
        "elif dia == 5:\n",
        "        print(\"Viernes\")\n",
        "elif dia == 6:\n",
        "        print(\"Sábado\")\n",
        "elif dia == 7:\n",
        "        print(\"Domingo\")\n",
        "else:\n",
        "    print(\"Debe ser un número entre 1 y 7\")"
      ],
      "execution_count": 16,
      "outputs": [
        {
          "output_type": "stream",
          "name": "stdout",
          "text": [
            "Ingresa un día de la semana en su valor numérico: 5\n",
            "Viernes\n"
          ]
        }
      ]
    },
    {
      "cell_type": "code",
      "metadata": {
        "colab": {
          "base_uri": "https://localhost:8080/"
        },
        "id": "gXFOoti_b6FN",
        "outputId": "de95e37c-8f07-486a-b008-1b560a64a30a"
      },
      "source": [
        "dia=int(input(\"Dame el día de la semana del 1-7: \"))\n",
        "if dia is 1:\n",
        "    print(\"LUNES\")\n",
        "elif dia is 2:\n",
        "    print(\"MARTES\")\n",
        "elif dia is 3:\n",
        "    print(\"MIERCOLES\")\n",
        "elif dia is 4:\n",
        "    print(\"JUEVES\")\n",
        "elif dia is 5:\n",
        "    print(\"VIERNES\")\n",
        "elif dia is 6:\n",
        "    print(\"SÁBADO\")\n",
        "elif dia is 7:\n",
        "    print(\"DOMINGO\")\n",
        "else:\n",
        "    print(\"Debe ser un numero entre el 1 y el 7\")"
      ],
      "execution_count": 29,
      "outputs": [
        {
          "output_type": "stream",
          "name": "stdout",
          "text": [
            "Dame el día de la semana del 1-7: 8\n",
            "Debe ser un numero entre el 1 y el 7\n"
          ]
        }
      ]
    },
    {
      "cell_type": "code",
      "metadata": {
        "colab": {
          "base_uri": "https://localhost:8080/"
        },
        "id": "3mezdcUKUja6",
        "outputId": "ca4fed31-5790-4983-b223-eef6da3e962a"
      },
      "source": [
        "dia = int(input(\"Ingreda un número entre 1 y 7: \"))\n",
        "print(f\"Capturaste el número {dia}\")\n",
        "\n",
        "if dia >= 1 and dia <= 7:\n",
        "    if dia == 1:\n",
        "        print(\"Lunes\")\n",
        "    if dia == 2:\n",
        "        print(\"Martes\")\n",
        "    if dia == 3:\n",
        "        print(\"Miercoles\")\n",
        "    if dia == 4:\n",
        "        print(\"Jueves\")\n",
        "    if dia == 5:\n",
        "        print(\"Viernes\")\n",
        "    if dia == 6:\n",
        "        print(\"Sábado\")\n",
        "    if dia == 7:\n",
        "        print(\"Domingo\")\n",
        "else: \n",
        "    print(\"Ese número no esta dentro del\")"
      ],
      "execution_count": 27,
      "outputs": [
        {
          "output_type": "stream",
          "name": "stdout",
          "text": [
            "Ingreda un número entre 1 y 7: 5\n",
            "Capturaste el número 5\n",
            "Viernes\n"
          ]
        }
      ]
    },
    {
      "cell_type": "code",
      "metadata": {
        "colab": {
          "base_uri": "https://localhost:8080/"
        },
        "id": "GJyHU2-gXDLv",
        "outputId": "9ca20f3a-72f4-4c6b-83f5-ee95161abab3"
      },
      "source": [
        "dia = int( input(\"Ingresa un numero entre 1 y 7:\"))\n",
        "print(f\"Capturaste el numero { dia }\")\n",
        "\n",
        "if dia >=1 and dia <= 7:\n",
        "    if dia == 1:\n",
        "        print(\"Lunes\")\n",
        "    else:\n",
        "        if dia == 2:\n",
        "            print(\"Martes\")\n",
        "        else:\n",
        "            if dia == 3:\n",
        "                print(\"Miércoles\")\n",
        "            else:\n",
        "                if dia == 4:\n",
        "                    print(\"Jueves\")\n",
        "                else:\n",
        "                    if dia == 5:\n",
        "                        print(\"Viernes\")\n",
        "                    else:\n",
        "     \n",
        "                        if dia == 6:\n",
        "                            print(\"Sábado\")\n",
        "                        else:\n",
        "                            print(\"Domingo\")\n",
        "else:\n",
        "    print(\"Ese numero no esta dentro del rango solicitado\")"
      ],
      "execution_count": 23,
      "outputs": [
        {
          "output_type": "stream",
          "name": "stdout",
          "text": [
            "Ingresa un numero entre 1 y 7:7\n",
            "Capturaste el numero 7\n",
            "Domingo\n"
          ]
        }
      ]
    },
    {
      "cell_type": "code",
      "metadata": {
        "id": "t0hOqkDKZmW_"
      },
      "source": [
        "\"\"\"\n",
        "Hacer un programa que pida dos números enteros y que imprima en pantalla lo \n",
        "siguiente:\n",
        "\"\"\"\n",
        "\n",
        "1. Cual de ellos es el número mayor \n",
        "2. Cual de ellos es el número menor o en su defecto \n",
        "Imprimir que los valores son iguales \n",
        "\n",
        "\"\"\"\n",
        "Hacer un programa que solicite 3 números enteros diferentes entre sí y que \n",
        "imprima cual de los 3 es el mayor\n",
        "\"\"\"\n",
        "\"\"\"\n",
        "Lo mismo del anterior pero del menor \n",
        "\"\"\"\n",
        "\n",
        "\"\"\"\n",
        "Hacer un programa que solicite 4 números enteros diferentes entre si e imprima \n",
        "a la salida cual de ellos es el menor y cual el mayor \n",
        "\"\"\""
      ],
      "execution_count": null,
      "outputs": []
    },
    {
      "cell_type": "markdown",
      "metadata": {
        "id": "phg-MVvna-d-"
      },
      "source": [
        "# Selección Múltiple (switch)\n"
      ]
    },
    {
      "cell_type": "code",
      "metadata": {
        "colab": {
          "base_uri": "https://localhost:8080/"
        },
        "id": "LQOZ31JPcu_J",
        "outputId": "c7797b5a-f462-485a-a709-926b69be3173"
      },
      "source": [
        "# Ejemplo 2.7\n",
        "\n",
        "NUM = int(input(\"Dame un número entre 1 y 3: \"))\n",
        "V = float(input(\"Dame un valor float:\"))\n",
        "VAL = 0\n",
        "if NUM == 1:\n",
        "    VAL = 100 * V\n",
        "elif NUM == 2:\n",
        "    VAL = 100 ** V\n",
        "elif NUM == 3:\n",
        "    VAL = 100/V \n",
        "else:\n",
        "    VAL = 0\n",
        "\n",
        "print(VAL)"
      ],
      "execution_count": 30,
      "outputs": [
        {
          "output_type": "stream",
          "name": "stdout",
          "text": [
            "Dame un número entre 1 y 3: 2\n",
            "Dame un valor float:3.4\n",
            "6309573.44480193\n"
          ]
        }
      ]
    }
  ]
}