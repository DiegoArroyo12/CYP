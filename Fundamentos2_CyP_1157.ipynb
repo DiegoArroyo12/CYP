{
  "nbformat": 4,
  "nbformat_minor": 0,
  "metadata": {
    "colab": {
      "name": "Fundamentos2_CyP_1157.ipynb",
      "provenance": [],
      "collapsed_sections": [],
      "authorship_tag": "ABX9TyNz5qa+8RFBiN1tsHqWxu4y",
      "include_colab_link": true
    },
    "kernelspec": {
      "name": "python3",
      "display_name": "Python 3"
    },
    "language_info": {
      "name": "python"
    }
  },
  "cells": [
    {
      "cell_type": "markdown",
      "metadata": {
        "id": "view-in-github",
        "colab_type": "text"
      },
      "source": [
        "<a href=\"https://colab.research.google.com/github/DiegoArroyo12/CYP/blob/master/Fundamentos2_CyP_1157.ipynb\" target=\"_parent\"><img src=\"https://colab.research.google.com/assets/colab-badge.svg\" alt=\"Open In Colab\"/></a>"
      ]
    },
    {
      "cell_type": "markdown",
      "metadata": {
        "id": "Lo6PDhp5FjRb"
      },
      "source": [
        "# Tipos de datos estructurados de python \n",
        "\n",
        "1. Listas \n",
        "2. Tuplas \n",
        "3. Diccionarios \n",
        "4. Conjuntos(opcional)"
      ]
    },
    {
      "cell_type": "markdown",
      "metadata": {
        "id": "HvYfdO6IFxWw"
      },
      "source": [
        "# Listas \n",
        "\n",
        "- Tipo de datos que agrupa variables o valores. \n",
        "- Estructura secuencial (undexados empezando por (0)\n",
        "- Se declara de dos formas#\n",
        "    - usando []\n",
        "    - usando list ()\n",
        "    - usando un generador\n",
        "- Puede contener tipos de dato diversos (En otros otros lenguajes de prog. eso no es posible de forma directa)\n",
        "- Los elementos internos se seleccionan con []\n",
        "- Soporta slicing\n",
        "- SON MUTABLES \n",
        "-GENERADORES [var for x in range (10)]\n",
        "- Al ser una clase contiene muchos métodos útiles"
      ]
    },
    {
      "cell_type": "code",
      "metadata": {
        "colab": {
          "base_uri": "https://localhost:8080/"
        },
        "id": "J1MYgEPiFb3I",
        "outputId": "41674c60-74c1-4853-d6eb-711fd228888a"
      },
      "source": [
        "numeros = [10,5,2,3,1]\n",
        "print(numeros)\n",
        "\n",
        "numeros2 = list()\n",
        "numeros2.append(10)\n",
        "numeros2.append(5)\n",
        "numeros2.append(2)\n",
        "numeros2.append(3)\n",
        "numeros2.append(1)\n",
        "print(numeros2)\n",
        "\n",
        "numeros[2] = 20\n",
        "numeros[-1] = 33 \n",
        "numeros.append(88)\n",
        "print(numeros)"
      ],
      "execution_count": 11,
      "outputs": [
        {
          "output_type": "stream",
          "name": "stdout",
          "text": [
            "[10, 5, 2, 3, 1]\n",
            "[10, 5, 2, 3, 1]\n",
            "[10, 5, 20, 3, 33, 88]\n"
          ]
        }
      ]
    },
    {
      "cell_type": "code",
      "metadata": {
        "colab": {
          "base_uri": "https://localhost:8080/"
        },
        "id": "Uw-Xp9-KIc3i",
        "outputId": "f0590f7b-327f-4d9b-a864-8cc983683c80"
      },
      "source": [
        "# tipos diversos \n",
        "\n",
        "cosas = [12, 2, True , \"José\" , 1.57 , [\"pera\" , \"kiwi\" , \"uva\"]]\n",
        "print(cosas)\n",
        "print(cosas[1])\n",
        "print(cosas[4])\n",
        "print(cosas[5])\n",
        "print(cosas[5][1])\n",
        "print(cosas[3][1:3])\n",
        "cosas[3] = cosas[3].upper()\n",
        "print(cosas)\n"
      ],
      "execution_count": 12,
      "outputs": [
        {
          "output_type": "stream",
          "name": "stdout",
          "text": [
            "[12, 2, True, 'José', 1.57, ['pera', 'kiwi', 'uva']]\n",
            "2\n",
            "1.57\n",
            "['pera', 'kiwi', 'uva']\n",
            "kiwi\n",
            "os\n",
            "[12, 2, True, 'JOSÉ', 1.57, ['pera', 'kiwi', 'uva']]\n"
          ]
        }
      ]
    },
    {
      "cell_type": "code",
      "metadata": {
        "colab": {
          "base_uri": "https://localhost:8080/"
        },
        "id": "IF_MQfriL2as",
        "outputId": "2c7c3f72-6cf8-4e3c-be10-7d32a9989079"
      },
      "source": [
        "numeros = [1,2,3,4,5,6,7,8,9,10,11]\n",
        "print(numeros)\n",
        "#slicing\n",
        "#1.- 4 al 8???\n",
        "print(numeros[3:8])\n",
        "# 2.- [9,10]\n",
        "print(numeros[8:10])\n",
        "print(numeros[-3:-1])\n",
        "# 3.- imprimir la lista en orden inverso [11,10,9,etc...,1]\n",
        "print(numeros[::-1])"
      ],
      "execution_count": 18,
      "outputs": [
        {
          "output_type": "stream",
          "name": "stdout",
          "text": [
            "[1, 2, 3, 4, 5, 6, 7, 8, 9, 10, 11]\n",
            "[4, 5, 6, 7, 8]\n",
            "[9, 10]\n",
            "[9, 10]\n",
            "[11, 10, 9, 8, 7, 6, 5, 4, 3, 2, 1]\n"
          ]
        }
      ]
    },
    {
      "cell_type": "code",
      "metadata": {
        "colab": {
          "base_uri": "https://localhost:8080/"
        },
        "id": "DRDNqAcNPnow",
        "outputId": "8667eab8-3a9b-4eda-b72d-aba4ccd3a4c4"
      },
      "source": [
        "# Crear una lista con un generador \n",
        "numeros = [ x*3 for x in range(101)]\n",
        "print(numeros)"
      ],
      "execution_count": 21,
      "outputs": [
        {
          "output_type": "stream",
          "name": "stdout",
          "text": [
            "[0, 3, 6, 9, 12, 15, 18, 21, 24, 27, 30, 33, 36, 39, 42, 45, 48, 51, 54, 57, 60, 63, 66, 69, 72, 75, 78, 81, 84, 87, 90, 93, 96, 99, 102, 105, 108, 111, 114, 117, 120, 123, 126, 129, 132, 135, 138, 141, 144, 147, 150, 153, 156, 159, 162, 165, 168, 171, 174, 177, 180, 183, 186, 189, 192, 195, 198, 201, 204, 207, 210, 213, 216, 219, 222, 225, 228, 231, 234, 237, 240, 243, 246, 249, 252, 255, 258, 261, 264, 267, 270, 273, 276, 279, 282, 285, 288, 291, 294, 297, 300]\n"
          ]
        }
      ]
    },
    {
      "cell_type": "markdown",
      "metadata": {
        "id": "xIYMGZb-QXUN"
      },
      "source": [
        "# Función range \n",
        "\n",
        "Tiene los mismos componentes que slicing \n",
        "inicio, stop , incremento\n",
        "\n",
        "range(1, 101, 1)\n"
      ]
    },
    {
      "cell_type": "code",
      "metadata": {
        "colab": {
          "base_uri": "https://localhost:8080/"
        },
        "id": "DZQQJ__uQu4Z",
        "outputId": "d38fcf70-cbc3-434e-ef26-866fa99c5180"
      },
      "source": [
        "numeros = [ x for x in range(50,101,5)]\n",
        "print(numeros)"
      ],
      "execution_count": 25,
      "outputs": [
        {
          "output_type": "stream",
          "name": "stdout",
          "text": [
            "[50, 55, 60, 65, 70, 75, 80, 85, 90, 95, 100]\n"
          ]
        }
      ]
    },
    {
      "cell_type": "markdown",
      "metadata": {
        "id": "U37QB4YvRIrF"
      },
      "source": [
        "# Métodos disponibles de las listas \n",
        "\n"
      ]
    },
    {
      "cell_type": "code",
      "metadata": {
        "colab": {
          "base_uri": "https://localhost:8080/"
        },
        "id": "lD6GjEwXROBt",
        "outputId": "32bb57c7-f657-4d67-9028-3abab32bd921"
      },
      "source": [
        "dir(list)"
      ],
      "execution_count": 26,
      "outputs": [
        {
          "output_type": "execute_result",
          "data": {
            "text/plain": [
              "['__add__',\n",
              " '__class__',\n",
              " '__contains__',\n",
              " '__delattr__',\n",
              " '__delitem__',\n",
              " '__dir__',\n",
              " '__doc__',\n",
              " '__eq__',\n",
              " '__format__',\n",
              " '__ge__',\n",
              " '__getattribute__',\n",
              " '__getitem__',\n",
              " '__gt__',\n",
              " '__hash__',\n",
              " '__iadd__',\n",
              " '__imul__',\n",
              " '__init__',\n",
              " '__init_subclass__',\n",
              " '__iter__',\n",
              " '__le__',\n",
              " '__len__',\n",
              " '__lt__',\n",
              " '__mul__',\n",
              " '__ne__',\n",
              " '__new__',\n",
              " '__reduce__',\n",
              " '__reduce_ex__',\n",
              " '__repr__',\n",
              " '__reversed__',\n",
              " '__rmul__',\n",
              " '__setattr__',\n",
              " '__setitem__',\n",
              " '__sizeof__',\n",
              " '__str__',\n",
              " '__subclasshook__',\n",
              " 'append',\n",
              " 'clear',\n",
              " 'copy',\n",
              " 'count',\n",
              " 'extend',\n",
              " 'index',\n",
              " 'insert',\n",
              " 'pop',\n",
              " 'remove',\n",
              " 'reverse',\n",
              " 'sort']"
            ]
          },
          "metadata": {},
          "execution_count": 26
        }
      ]
    },
    {
      "cell_type": "code",
      "metadata": {
        "colab": {
          "base_uri": "https://localhost:8080/"
        },
        "id": "WfghZR9tSa6D",
        "outputId": "c038499c-7b7b-40ee-f964-16ab48338894"
      },
      "source": [
        "numeros = [4,1,15,8,22,34,50,15]\n",
        "print(numeros)\n",
        "numeros.append(99)\n",
        "print(numeros)\n",
        "#numeros.clear()\n",
        "print(numeros)\n",
        "\n",
        "frutas = [\"uvas\" , \"kiwi\", \"manzana\"]\n",
        "copia = frutas\n",
        "print(frutas)\n",
        "print(copia)\n",
        "frutas.append(\"Naranja\")\n",
        "print(frutas)\n",
        "print(copia)\n",
        "\n",
        "colores = [\"rojo\" , \"azul\" , \"blanco\"]\n",
        "copia2 = colores.copy()\n",
        "print(colores)\n",
        "print(copia2)\n",
        "colores.append(\"verde\")\n",
        "print(colores)\n",
        "print(copia2)\n",
        "\n",
        "print(\"Número de veces que aparece el 15: \" , numeros.count(15))\n",
        "\n",
        "# extend\n",
        "\n",
        "nombres = [\"jose\" , \"pedro\" , \"karina\"]\n",
        "otrosNombres = [\"josue\", \"diana\", \"dalia\"]\n",
        "\n",
        "print(nombres)\n",
        "print(otrosNombres)\n",
        "nombres = nombres + otrosNombres\n",
        "print(nombres)\n",
        "print(otrosNombres)\n",
        "\n",
        "# lo mismo con el método extend\n",
        "otrosNombres.extend([\"Jesús\", \"María\", \"José\"])\n",
        "print(otrosNombres)\n",
        "print(\"Jesús esta en la posición: \" , otrosNombres.index(\"Jesús\"))\n",
        "otrosNombres.insert(4, \"Espíritu Santo\")\n",
        "print(otrosNombres)\n",
        "\n",
        "# pop \n",
        "resultado = otrosNombres.pop()\n",
        "print(otrosNombres)\n",
        "print(resultado)"
      ],
      "execution_count": 36,
      "outputs": [
        {
          "output_type": "stream",
          "name": "stdout",
          "text": [
            "[4, 1, 15, 8, 22, 34, 50, 15]\n",
            "[4, 1, 15, 8, 22, 34, 50, 15, 99]\n",
            "[4, 1, 15, 8, 22, 34, 50, 15, 99]\n",
            "['uvas', 'kiwi', 'manzana']\n",
            "['uvas', 'kiwi', 'manzana']\n",
            "['uvas', 'kiwi', 'manzana', 'Naranja']\n",
            "['uvas', 'kiwi', 'manzana', 'Naranja']\n",
            "['rojo', 'azul', 'blanco']\n",
            "['rojo', 'azul', 'blanco']\n",
            "['rojo', 'azul', 'blanco', 'verde']\n",
            "['rojo', 'azul', 'blanco']\n",
            "Número de veces que aparece el 15:  2\n",
            "['jose', 'pedro', 'karina']\n",
            "['josue', 'diana', 'dalia']\n",
            "['jose', 'pedro', 'karina', 'josue', 'diana', 'dalia']\n",
            "['josue', 'diana', 'dalia']\n",
            "['josue', 'diana', 'dalia', 'Jesús', 'María', 'José']\n",
            "Jesús esta en la posición:  3\n",
            "['josue', 'diana', 'dalia', 'Jesús', 'Espíritu Santo', 'María', 'José']\n",
            "['josue', 'diana', 'dalia', 'Jesús', 'Espíritu Santo', 'María']\n",
            "José\n"
          ]
        }
      ]
    }
  ]
}