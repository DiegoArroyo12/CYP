{
  "nbformat": 4,
  "nbformat_minor": 0,
  "metadata": {
    "colab": {
      "name": "Fundamentos2_CyP_1157.ipynb",
      "provenance": [],
      "collapsed_sections": [],
      "authorship_tag": "ABX9TyMpujvDhh1mkVjPk/6Qm7f7",
      "include_colab_link": true
    },
    "kernelspec": {
      "name": "python3",
      "display_name": "Python 3"
    },
    "language_info": {
      "name": "python"
    }
  },
  "cells": [
    {
      "cell_type": "markdown",
      "metadata": {
        "id": "view-in-github",
        "colab_type": "text"
      },
      "source": [
        "<a href=\"https://colab.research.google.com/github/DiegoArroyo12/CYP/blob/master/Fundamentos2_CyP_1157.ipynb\" target=\"_parent\"><img src=\"https://colab.research.google.com/assets/colab-badge.svg\" alt=\"Open In Colab\"/></a>"
      ]
    },
    {
      "cell_type": "markdown",
      "metadata": {
        "id": "Lo6PDhp5FjRb"
      },
      "source": [
        "# Tipos de datos estructurados de python \n",
        "\n",
        "1. Listas \n",
        "2. Tuplas \n",
        "3. Diccionarios \n",
        "4. Conjuntos(opcional)"
      ]
    },
    {
      "cell_type": "markdown",
      "metadata": {
        "id": "HvYfdO6IFxWw"
      },
      "source": [
        "# Listas \n",
        "\n",
        "- Tipo de datos que agrupa variables o valores. \n",
        "- Estructura secuencial (undexados empezando por (0)\n",
        "- Se declara de dos formas#\n",
        "    - usando []\n",
        "    - usando list ()\n",
        "    - usando un generador\n",
        "- Puede contener tipos de dato diversos (En otros otros lenguajes de prog. eso no es posible de forma directa)\n",
        "- Los elementos internos se seleccionan con []\n",
        "- Soporta slicing\n",
        "- SON MUTABLES \n",
        "-GENERADORES [var for x in range (10)]\n",
        "- Al ser una clase contiene muchos métodos útiles"
      ]
    },
    {
      "cell_type": "code",
      "metadata": {
        "colab": {
          "base_uri": "https://localhost:8080/"
        },
        "id": "J1MYgEPiFb3I",
        "outputId": "41674c60-74c1-4853-d6eb-711fd228888a"
      },
      "source": [
        "numeros = [10,5,2,3,1]\n",
        "print(numeros)\n",
        "\n",
        "numeros2 = list()\n",
        "numeros2.append(10)\n",
        "numeros2.append(5)\n",
        "numeros2.append(2)\n",
        "numeros2.append(3)\n",
        "numeros2.append(1)\n",
        "print(numeros2)\n",
        "\n",
        "numeros[2] = 20\n",
        "numeros[-1] = 33 \n",
        "numeros.append(88)\n",
        "print(numeros)"
      ],
      "execution_count": null,
      "outputs": [
        {
          "output_type": "stream",
          "name": "stdout",
          "text": [
            "[10, 5, 2, 3, 1]\n",
            "[10, 5, 2, 3, 1]\n",
            "[10, 5, 20, 3, 33, 88]\n"
          ]
        }
      ]
    },
    {
      "cell_type": "code",
      "metadata": {
        "colab": {
          "base_uri": "https://localhost:8080/"
        },
        "id": "Uw-Xp9-KIc3i",
        "outputId": "f0590f7b-327f-4d9b-a864-8cc983683c80"
      },
      "source": [
        "# tipos diversos \n",
        "\n",
        "cosas = [12, 2, True , \"José\" , 1.57 , [\"pera\" , \"kiwi\" , \"uva\"]]\n",
        "print(cosas)\n",
        "print(cosas[1])\n",
        "print(cosas[4])\n",
        "print(cosas[5])\n",
        "print(cosas[5][1])\n",
        "print(cosas[3][1:3])\n",
        "cosas[3] = cosas[3].upper()\n",
        "print(cosas)\n"
      ],
      "execution_count": null,
      "outputs": [
        {
          "output_type": "stream",
          "name": "stdout",
          "text": [
            "[12, 2, True, 'José', 1.57, ['pera', 'kiwi', 'uva']]\n",
            "2\n",
            "1.57\n",
            "['pera', 'kiwi', 'uva']\n",
            "kiwi\n",
            "os\n",
            "[12, 2, True, 'JOSÉ', 1.57, ['pera', 'kiwi', 'uva']]\n"
          ]
        }
      ]
    },
    {
      "cell_type": "code",
      "metadata": {
        "colab": {
          "base_uri": "https://localhost:8080/"
        },
        "id": "IF_MQfriL2as",
        "outputId": "2c7c3f72-6cf8-4e3c-be10-7d32a9989079"
      },
      "source": [
        "numeros = [1,2,3,4,5,6,7,8,9,10,11]\n",
        "print(numeros)\n",
        "#slicing\n",
        "#1.- 4 al 8???\n",
        "print(numeros[3:8])\n",
        "# 2.- [9,10]\n",
        "print(numeros[8:10])\n",
        "print(numeros[-3:-1])\n",
        "# 3.- imprimir la lista en orden inverso [11,10,9,etc...,1]\n",
        "print(numeros[::-1])"
      ],
      "execution_count": null,
      "outputs": [
        {
          "output_type": "stream",
          "name": "stdout",
          "text": [
            "[1, 2, 3, 4, 5, 6, 7, 8, 9, 10, 11]\n",
            "[4, 5, 6, 7, 8]\n",
            "[9, 10]\n",
            "[9, 10]\n",
            "[11, 10, 9, 8, 7, 6, 5, 4, 3, 2, 1]\n"
          ]
        }
      ]
    },
    {
      "cell_type": "code",
      "metadata": {
        "colab": {
          "base_uri": "https://localhost:8080/"
        },
        "id": "DRDNqAcNPnow",
        "outputId": "8667eab8-3a9b-4eda-b72d-aba4ccd3a4c4"
      },
      "source": [
        "# Crear una lista con un generador \n",
        "numeros = [ x*3 for x in range(101)]\n",
        "print(numeros)"
      ],
      "execution_count": null,
      "outputs": [
        {
          "output_type": "stream",
          "name": "stdout",
          "text": [
            "[0, 3, 6, 9, 12, 15, 18, 21, 24, 27, 30, 33, 36, 39, 42, 45, 48, 51, 54, 57, 60, 63, 66, 69, 72, 75, 78, 81, 84, 87, 90, 93, 96, 99, 102, 105, 108, 111, 114, 117, 120, 123, 126, 129, 132, 135, 138, 141, 144, 147, 150, 153, 156, 159, 162, 165, 168, 171, 174, 177, 180, 183, 186, 189, 192, 195, 198, 201, 204, 207, 210, 213, 216, 219, 222, 225, 228, 231, 234, 237, 240, 243, 246, 249, 252, 255, 258, 261, 264, 267, 270, 273, 276, 279, 282, 285, 288, 291, 294, 297, 300]\n"
          ]
        }
      ]
    },
    {
      "cell_type": "markdown",
      "metadata": {
        "id": "xIYMGZb-QXUN"
      },
      "source": [
        "# Función range \n",
        "\n",
        "Tiene los mismos componentes que slicing \n",
        "inicio, stop , incremento\n",
        "\n",
        "range(1, 101, 1)\n"
      ]
    },
    {
      "cell_type": "code",
      "metadata": {
        "colab": {
          "base_uri": "https://localhost:8080/"
        },
        "id": "DZQQJ__uQu4Z",
        "outputId": "d38fcf70-cbc3-434e-ef26-866fa99c5180"
      },
      "source": [
        "numeros = [ x for x in range(50,101,5)]\n",
        "print(numeros)"
      ],
      "execution_count": null,
      "outputs": [
        {
          "output_type": "stream",
          "name": "stdout",
          "text": [
            "[50, 55, 60, 65, 70, 75, 80, 85, 90, 95, 100]\n"
          ]
        }
      ]
    },
    {
      "cell_type": "markdown",
      "metadata": {
        "id": "U37QB4YvRIrF"
      },
      "source": [
        "# Métodos disponibles de las listas \n",
        "\n"
      ]
    },
    {
      "cell_type": "code",
      "metadata": {
        "colab": {
          "base_uri": "https://localhost:8080/"
        },
        "id": "lD6GjEwXROBt",
        "outputId": "32bb57c7-f657-4d67-9028-3abab32bd921"
      },
      "source": [
        "dir(list)"
      ],
      "execution_count": null,
      "outputs": [
        {
          "output_type": "execute_result",
          "data": {
            "text/plain": [
              "['__add__',\n",
              " '__class__',\n",
              " '__contains__',\n",
              " '__delattr__',\n",
              " '__delitem__',\n",
              " '__dir__',\n",
              " '__doc__',\n",
              " '__eq__',\n",
              " '__format__',\n",
              " '__ge__',\n",
              " '__getattribute__',\n",
              " '__getitem__',\n",
              " '__gt__',\n",
              " '__hash__',\n",
              " '__iadd__',\n",
              " '__imul__',\n",
              " '__init__',\n",
              " '__init_subclass__',\n",
              " '__iter__',\n",
              " '__le__',\n",
              " '__len__',\n",
              " '__lt__',\n",
              " '__mul__',\n",
              " '__ne__',\n",
              " '__new__',\n",
              " '__reduce__',\n",
              " '__reduce_ex__',\n",
              " '__repr__',\n",
              " '__reversed__',\n",
              " '__rmul__',\n",
              " '__setattr__',\n",
              " '__setitem__',\n",
              " '__sizeof__',\n",
              " '__str__',\n",
              " '__subclasshook__',\n",
              " 'append',\n",
              " 'clear',\n",
              " 'copy',\n",
              " 'count',\n",
              " 'extend',\n",
              " 'index',\n",
              " 'insert',\n",
              " 'pop',\n",
              " 'remove',\n",
              " 'reverse',\n",
              " 'sort']"
            ]
          },
          "metadata": {},
          "execution_count": 26
        }
      ]
    },
    {
      "cell_type": "code",
      "metadata": {
        "colab": {
          "base_uri": "https://localhost:8080/"
        },
        "id": "WfghZR9tSa6D",
        "outputId": "c038499c-7b7b-40ee-f964-16ab48338894"
      },
      "source": [
        "numeros = [4,1,15,8,22,34,50,15]\n",
        "print(numeros)\n",
        "numeros.append(99)\n",
        "print(numeros)\n",
        "#numeros.clear()\n",
        "print(numeros)\n",
        "\n",
        "frutas = [\"uvas\" , \"kiwi\", \"manzana\"]\n",
        "copia = frutas\n",
        "print(frutas)\n",
        "print(copia)\n",
        "frutas.append(\"Naranja\")\n",
        "print(frutas)\n",
        "print(copia)\n",
        "\n",
        "colores = [\"rojo\" , \"azul\" , \"blanco\"]\n",
        "copia2 = colores.copy()\n",
        "print(colores)\n",
        "print(copia2)\n",
        "colores.append(\"verde\")\n",
        "print(colores)\n",
        "print(copia2)\n",
        "\n",
        "print(\"Número de veces que aparece el 15: \" , numeros.count(15))\n",
        "\n",
        "# extend\n",
        "\n",
        "nombres = [\"jose\" , \"pedro\" , \"karina\"]\n",
        "otrosNombres = [\"josue\", \"diana\", \"dalia\"]\n",
        "\n",
        "print(nombres)\n",
        "print(otrosNombres)\n",
        "nombres = nombres + otrosNombres\n",
        "print(nombres)\n",
        "print(otrosNombres)\n",
        "\n",
        "# lo mismo con el método extend\n",
        "otrosNombres.extend([\"Jesús\", \"María\", \"José\"])\n",
        "print(otrosNombres)\n",
        "print(\"Jesús esta en la posición: \" , otrosNombres.index(\"Jesús\"))\n",
        "otrosNombres.insert(4, \"Espíritu Santo\")\n",
        "print(otrosNombres)\n",
        "\n",
        "# pop \n",
        "resultado = otrosNombres.pop()\n",
        "print(otrosNombres)\n",
        "print(resultado)"
      ],
      "execution_count": null,
      "outputs": [
        {
          "output_type": "stream",
          "name": "stdout",
          "text": [
            "[4, 1, 15, 8, 22, 34, 50, 15]\n",
            "[4, 1, 15, 8, 22, 34, 50, 15, 99]\n",
            "[4, 1, 15, 8, 22, 34, 50, 15, 99]\n",
            "['uvas', 'kiwi', 'manzana']\n",
            "['uvas', 'kiwi', 'manzana']\n",
            "['uvas', 'kiwi', 'manzana', 'Naranja']\n",
            "['uvas', 'kiwi', 'manzana', 'Naranja']\n",
            "['rojo', 'azul', 'blanco']\n",
            "['rojo', 'azul', 'blanco']\n",
            "['rojo', 'azul', 'blanco', 'verde']\n",
            "['rojo', 'azul', 'blanco']\n",
            "Número de veces que aparece el 15:  2\n",
            "['jose', 'pedro', 'karina']\n",
            "['josue', 'diana', 'dalia']\n",
            "['jose', 'pedro', 'karina', 'josue', 'diana', 'dalia']\n",
            "['josue', 'diana', 'dalia']\n",
            "['josue', 'diana', 'dalia', 'Jesús', 'María', 'José']\n",
            "Jesús esta en la posición:  3\n",
            "['josue', 'diana', 'dalia', 'Jesús', 'Espíritu Santo', 'María', 'José']\n",
            "['josue', 'diana', 'dalia', 'Jesús', 'Espíritu Santo', 'María']\n",
            "José\n"
          ]
        }
      ]
    },
    {
      "cell_type": "markdown",
      "metadata": {
        "id": "-q3zFIq6v7Sa"
      },
      "source": [
        "# Tuplas \n",
        "\n",
        "### Características de las tuplas \n",
        "\n",
        "- Datos agrupados.\n",
        "- Se declara usando\n",
        "\n",
        "    -( )\n",
        "    -tuple\n",
        "- Estructura secuencial, indexada a partir de 0.\n",
        "- Pueden tener de 0 a n elementos. \n",
        "- NO SON MUTABLES (No se puede: Eliminar y/o cambiar)\n",
        "- Son buenas para almacenar información de consulta.\n",
        "- Pueden almacenar información de diferentes tipos de datos. \n",
        "- Pueden estar anidadas. \n",
        "- Tienen métodos útiles."
      ]
    },
    {
      "cell_type": "code",
      "metadata": {
        "colab": {
          "base_uri": "https://localhost:8080/"
        },
        "id": "_PO1fA4Lw94S",
        "outputId": "8c1e6ab7-14b2-4a79-93d5-7ac5101c2044"
      },
      "source": [
        "info = (\"juan23\" , \"dios1234\" , \"123.232.1.12\")\n",
        "print(info)\n",
        "print(info[1])\n",
        "#info[1] = \"patito23\" esto no se puede hacer \n",
        "\n",
        "numeros = (0,1,2,3,4,5,6,7,8,9,10,11,12,13,14,15)\n",
        "print(numeros)\n",
        "print(numeros[5:11])\n",
        "\n",
        "cosas = ( info , numeros )\n",
        "print( cosas )\n",
        "print( cosas[1][5:11:1])\n",
        "print( cosas[0][2][4:7])"
      ],
      "execution_count": null,
      "outputs": [
        {
          "output_type": "stream",
          "name": "stdout",
          "text": [
            "('juan23', 'dios1234', '123.232.1.12')\n",
            "dios1234\n",
            "(0, 1, 2, 3, 4, 5, 6, 7, 8, 9, 10, 11, 12, 13, 14, 15)\n",
            "(5, 6, 7, 8, 9, 10)\n",
            "(('juan23', 'dios1234', '123.232.1.12'), (0, 1, 2, 3, 4, 5, 6, 7, 8, 9, 10, 11, 12, 13, 14, 15))\n",
            "(5, 6, 7, 8, 9, 10)\n",
            "232\n"
          ]
        }
      ]
    },
    {
      "cell_type": "markdown",
      "metadata": {
        "id": "okWYA8-b0s4T"
      },
      "source": [
        "# Métodos de las tuplas \n",
        "\n",
        "Son los mismos de las listas pero que no involucren mutabilidad. "
      ]
    },
    {
      "cell_type": "code",
      "metadata": {
        "colab": {
          "base_uri": "https://localhost:8080/"
        },
        "id": "-s5JkKKc2w4o",
        "outputId": "0085abba-aeaa-4e64-8834-6b28d75ced94"
      },
      "source": [
        "dir(tuple)"
      ],
      "execution_count": 6,
      "outputs": [
        {
          "output_type": "execute_result",
          "data": {
            "text/plain": [
              "['__add__',\n",
              " '__class__',\n",
              " '__contains__',\n",
              " '__delattr__',\n",
              " '__dir__',\n",
              " '__doc__',\n",
              " '__eq__',\n",
              " '__format__',\n",
              " '__ge__',\n",
              " '__getattribute__',\n",
              " '__getitem__',\n",
              " '__getnewargs__',\n",
              " '__gt__',\n",
              " '__hash__',\n",
              " '__init__',\n",
              " '__init_subclass__',\n",
              " '__iter__',\n",
              " '__le__',\n",
              " '__len__',\n",
              " '__lt__',\n",
              " '__mul__',\n",
              " '__ne__',\n",
              " '__new__',\n",
              " '__reduce__',\n",
              " '__reduce_ex__',\n",
              " '__repr__',\n",
              " '__rmul__',\n",
              " '__setattr__',\n",
              " '__sizeof__',\n",
              " '__str__',\n",
              " '__subclasshook__',\n",
              " 'count',\n",
              " 'index']"
            ]
          },
          "metadata": {},
          "execution_count": 6
        }
      ]
    },
    {
      "cell_type": "markdown",
      "metadata": {
        "id": "oKU2zwzf23Lm"
      },
      "source": [
        "# Diccionarios \n",
        "### Características de los diccionarios\n",
        "\n",
        "- Agrupan datos pero de forma no lineal.\n",
        "- Se declaran con: \n",
        "  - {}\n",
        "  -dict()\n",
        "- Formado por pares del tipo llave:valor , donde\n",
        "    - llave es de tipo string (siempre)\n",
        "    - valor puede ser de cualquier tipo de datos, incluyendo los diccionarios. \n",
        "- Se seleccionan con la llave de la forma: [\"id_llave\"]\n",
        "- Son mutables \n",
        "- Son anidables\n",
        "- Son equivalentes al tipo de dato JSON del lenguaje JavaScript(JS)\n"
      ]
    },
    {
      "cell_type": "code",
      "metadata": {
        "colab": {
          "base_uri": "https://localhost:8080/"
        },
        "id": "n5sVL8g94juJ",
        "outputId": "97d4b3f6-367a-4190-e11b-f2659455a5ad"
      },
      "source": [
        "alumno = { \"nombre\" : \"Diego\" }\n",
        "print( alumno )\n",
        "print( alumno[\"nombre\"] )\n",
        "alumno = { \"nombre\" : \"Diego\" , \"nc\": \"2129229292\", \"edad\": 18}\n",
        "print(\"Edad del alumno = \" , alumno[\"edad\"])\n",
        "print(alumno['nombre'].upper())\n",
        "print(alumno)\n",
        "\n",
        "print(\"Alumno 2 : \")\n",
        "alumno2 = dict() #{ }\n",
        "alumno2[\"nombre\"] = \"Diego\"\n",
        "print(alumno2)\n",
        "alumno2[\"nc\"] = \"2129229292\"\n",
        "alumno2[\"edad\"] = 18\n",
        "print(alumno2)\n",
        "alumno2[\"edad\"] = alumno2[\"edad\"] + 1\n",
        "print(alumno2)"
      ],
      "execution_count": null,
      "outputs": [
        {
          "output_type": "stream",
          "name": "stdout",
          "text": [
            "{'nombre': 'Diego'}\n",
            "Diego\n",
            "Edad del alumno =  18\n",
            "DIEGO\n",
            "{'nombre': 'Diego', 'nc': '2129229292', 'edad': 18}\n",
            "Alumno 2 : \n",
            "{'nombre': 'Diego'}\n",
            "{'nombre': 'Diego', 'nc': '2129229292', 'edad': 18}\n",
            "{'nombre': 'Diego', 'nc': '2129229292', 'edad': 19}\n"
          ]
        }
      ]
    },
    {
      "cell_type": "code",
      "metadata": {
        "colab": {
          "base_uri": "https://localhost:8080/"
        },
        "id": "Q2M4Xk2s8PVe",
        "outputId": "7c63bc21-f1d0-44c4-d798-267a53aa8720"
      },
      "source": [
        "cliente = { \"id\":\"CT2121\" , \n",
        "           \"nombre\":\"Diego Arroyo Palacios\" , \n",
        "           \"telefonos\":\"casa=5546336703  cel=0445584075908\"}\n",
        "\n",
        "print(cliente)\n",
        "cliente = { \"id\":\"CT2121\" , \n",
        "           \"nombre\" : {\n",
        "               \"nombres\" : [\"Diego\", \"David\"], \n",
        "               \"paterno\" : \"Arroyo\" , \n",
        "               \"materno\" : \"Palacios\"\n",
        "           } , \n",
        "           \"telefonos\" : {\n",
        "               \"casa\" : \"5546336703\" , \n",
        "               \"trabajo\" : \"5544223366\" ,\n",
        "               \"celular\" : \"0445584075908\"\n",
        "           } ,\n",
        "           \"productos\" : {\n",
        "                    \"ahorro\" : {\"numero_cuenta\":\"7788\" , \"ahorro\":2500.5},\n",
        "                    \"tarjetas\":[\n",
        "                                 {\"tipo\":\"debito\" , \"saldo\":10000.5},\n",
        "                                 {\"tipo\":\"credito preferente\" , \"limite\":250000.5},\n",
        "                                 {\"tipo\":\"lite\" , \"limite\": 15000.5}\n",
        "                    ],\n",
        "            \"dirección\" : {\n",
        "                \"calle\":\"Av. Central\",\n",
        "                \"numero\":471,\n",
        "                \"colonia\":\"Lomas de Becerra\", \n",
        "                \"delegación\":\"Álvaro Obregón\",\n",
        "                \"estado\": {\n",
        "                           \"clave\": 15,\n",
        "                           \"nombre_corto\":\"CDMX\",\n",
        "                           \"nombre\":\"Ciudad de México\"\n",
        "                          }\n",
        "                          }        \n",
        "           }\n",
        "           \n",
        "           }\n",
        "print( cliente[\"telefonos\"][\"casa\"] )\n",
        "print(cliente)\n",
        "print(cliente[\"productos\"][\"ahorro\"][\"ahorro\"])\n",
        "print(cliente[\"productos\"][\"tarjetas\"][2][\"limite\"])\n",
        "\n",
        "print(cliente[\"productos\"][\"ahorro\"][\"ahorro\"])"
      ],
      "execution_count": 8,
      "outputs": [
        {
          "output_type": "stream",
          "name": "stdout",
          "text": [
            "{'id': 'CT2121', 'nombre': 'Diego Arroyo Palacios', 'telefonos': 'casa=5546336703  cel=0445584075908'}\n",
            "5546336703\n",
            "{'id': 'CT2121', 'nombre': {'nombres': ['Diego', 'David'], 'paterno': 'Arroyo', 'materno': 'Palacios'}, 'telefonos': {'casa': '5546336703', 'trabajo': '5544223366', 'celular': '0445584075908'}, 'productos': {'ahorro': {'numero_cuenta': '7788', 'ahorro': 2500.5}, 'tarjetas': [{'tipo': 'debito', 'saldo': 10000.5}, {'tipo': 'credito preferente', 'limite': 250000.5}, {'tipo': 'lite', 'limite': 15000.5}], 'dirección': {'calle': 'Av. Central', 'numero': 471, 'colonia': 'Lomas de Becerra', 'delegación': 'Álvaro Obregón', 'estado': {'clave': 15, 'nombre_corto': 'CDMX', 'nombre': 'Ciudad de México'}}}}\n",
            "2500.5\n",
            "15000.5\n",
            "2500.5\n"
          ]
        }
      ]
    },
    {
      "cell_type": "code",
      "metadata": {
        "colab": {
          "base_uri": "https://localhost:8080/"
        },
        "id": "7MZ9gs8mKOv9",
        "outputId": "eecf3d16-d1e5-4c90-e12a-6982a43671b6"
      },
      "source": [
        "star_wars = {\"Capítulo I\":{\"La Amenaza fantasma\":{\"El inicio de la historia con Anakin Skywalker\"}},\n",
        "             \"Capítulo II\":{\"El Ataque de los Clones\":{\"Descubren que se ha hecho un ejercito de clones\"}},\n",
        "             \"Capítulo III\":{\"La Venganza de los Sith\":{\"Anakin se convierte en Darth Vader\"}},\n",
        "             \"Capítulo IV\":{\"Una Nueva Esperanza\":{\"El hijo secreto de Anakin descubre su conexión con la fuerza\"}},\n",
        "             \"Capítulo V\":{\"El Imperio Contraataca\":{\"El imperio da un golpe fuerte contra la rebelión\"}},\n",
        "             \"Capítulo VI\":{\"El Retorno del Jedi\":{\"Derrotan al imperio\"}},\n",
        "             \"Capítulo VII\":{\"El Despertar de la Fuerza\":{\"Surge la Primera Orden\"}},\n",
        "             \"Capítulo VIII\":{\"Los Últimos Jedi\"}}\n",
        "\n",
        "print(star_wars[\"Capítulo III\"])"
      ],
      "execution_count": 7,
      "outputs": [
        {
          "output_type": "stream",
          "name": "stdout",
          "text": [
            "{'La Venganza de los Sith': {'Anakin se convierte en Darth Vader'}}\n"
          ]
        }
      ]
    },
    {
      "cell_type": "markdown",
      "metadata": {
        "id": "EDsQPn_AOkXz"
      },
      "source": [
        "# Estructuras de control de programación \n",
        "\n",
        "Se puede crear cualquier tipo de algoritmo solamente 3 estructuras de control:\n",
        "\n",
        "1. Secuencia:\n",
        "      - La representación de la memoria de programa (Arquitectura Vonn Newman) \n",
        "2. Selección:\n",
        "      - Es la estructura de control que decide si un bloque de programa se ejecuta o no se ejecuta. Tabién permite seleccionar ejecutar un bloque entre un conjunto de opciones. En resumen tenemos: Selección simple, selección con bifurcación y selección múltiple. \n",
        "3. Repetición: \n",
        "      -Este tipo de estructura nos permite automatizar la ejecución repetitiva de código mientras ciertas condiciones se cumplan, tenemos 3 variantes de esta estructura en todos los lenguajes de programación:\n",
        "      - Desde...hasta(estructura for)\n",
        "      - haz mientras (estructura while)\n",
        "      - haz y luego validez mientras (estructura Do-While)"
      ]
    },
    {
      "cell_type": "markdown",
      "metadata": {
        "id": "ax0HxWbzSBDD"
      },
      "source": [
        "# Selección Simple \n",
        "-- Documentar o poner notas\n",
        "\n",
        "La estructura if \n",
        "\n",
        "```\n",
        "if <CONDICION>:\n",
        "    <Cuerpo del if>\n",
        "```\n",
        "\n",
        "**NOTA** Para establecer el cuerpo de una estructura de control en Python se usan los tabuladores a la izquierda. \n",
        "\n",
        "En otros lenguajes de programación como java, c y c++... se usan las llaves {} \n",
        "\n",
        "```\n",
        "int edad =0;\n",
        "printf(\"Dame tu edad\");\n",
        "scanf(\"%i\", &edad );\n",
        "if(edad >= 18 ) {\n",
        "    printf(\"ERES MAYOR DE EDAD\")\n",
        "}\n",
        "printf(\"Fin de programa)\n",
        "```"
      ]
    },
    {
      "cell_type": "code",
      "metadata": {
        "colab": {
          "base_uri": "https://localhost:8080/"
        },
        "id": "-BWTWkhnSIbG",
        "outputId": "98a75c8e-5877-425f-eb10-a618fd5b2cba"
      },
      "source": [
        "edad = int(input(\"Dame tu edad: \"))\n",
        "print(f\"Tecleaste {edad} años\")\n",
        "if edad >= 18 : \n",
        "  print(\"Eres mayor de edad\")\n",
        "  print(\"Algo\")\n",
        "  print(\"Otra cosa\")\n",
        "print(\"Fin de programa\")"
      ],
      "execution_count": 10,
      "outputs": [
        {
          "output_type": "stream",
          "name": "stdout",
          "text": [
            "Dame tu edad: 18\n",
            "Tecleaste 18 años\n",
            "Eres mayor de edad\n",
            "Algo\n",
            "Otra cosa\n",
            "Fin de programa\n"
          ]
        }
      ]
    },
    {
      "cell_type": "code",
      "metadata": {
        "colab": {
          "base_uri": "https://localhost:8080/"
        },
        "id": "URPS2FYyXkOC",
        "outputId": "589c23a5-edb2-445e-9ab1-7ca0aaf4b609"
      },
      "source": [
        "cal = float(input(\"Dame tu calificación: \"))\n",
        "if cal > 8:\n",
        "  print(\"Aprobado\")\n",
        "print(\"Fin del programa\")"
      ],
      "execution_count": 12,
      "outputs": [
        {
          "output_type": "stream",
          "name": "stdout",
          "text": [
            "Dame tu calificación: 9\n",
            "Aprobado\n",
            "Fin del programa\n"
          ]
        }
      ]
    },
    {
      "cell_type": "code",
      "metadata": {
        "colab": {
          "base_uri": "https://localhost:8080/"
        },
        "id": "u4l-Bor8X5Wz",
        "outputId": "cfb9a55e-b514-475d-ad8b-af18847dd28a"
      },
      "source": [
        "sue = float(input(\"¿Cuál es tu sueldo?: \"))\n",
        "aum = 0 \n",
        "msue = 0\n",
        "if sue < 1000:\n",
        "  aum = sue*0.15\n",
        "  msue = sue + aum \n",
        "  print(msue)\n",
        "print(\"Fin del programa\")"
      ],
      "execution_count": 13,
      "outputs": [
        {
          "output_type": "stream",
          "name": "stdout",
          "text": [
            "¿Cuál es tu sueldo?: 875.50\n",
            "1006.825\n",
            "Fin del programa\n"
          ]
        }
      ]
    }
  ]
}